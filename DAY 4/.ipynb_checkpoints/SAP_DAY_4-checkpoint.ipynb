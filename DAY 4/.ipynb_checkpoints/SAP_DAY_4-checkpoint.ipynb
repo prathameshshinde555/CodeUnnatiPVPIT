{
 "cells": [
  {
   "cell_type": "code",
   "execution_count": null,
   "id": "7ff6cb77-6100-4c38-802e-5ce60ea2ba99",
   "metadata": {},
   "outputs": [],
   "source": []
  }
 ],
 "metadata": {
  "kernelspec": {
   "display_name": "Python 3 (ipykernel)",
   "language": "python",
   "name": "python3"
  },
  "language_info": {
   "codemirror_mode": {
    "name": "ipython",
    "version": 3
   },
   "file_extension": ".py",
   "mimetype": "text/x-python",
   "name": "python",
   "nbconvert_exporter": "python",
   "pygments_lexer": "ipython3",
   "version": "3.9.8"
  }
 },
 "nbformat": 4,
 "nbformat_minor": 5
}
