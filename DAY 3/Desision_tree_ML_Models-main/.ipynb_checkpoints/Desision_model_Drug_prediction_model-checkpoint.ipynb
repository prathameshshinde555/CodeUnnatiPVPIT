{
  "nbformat": 4,
  "nbformat_minor": 0,
  "metadata": {
    "colab": {
      "name": "Desision_model_Drug_prediction_model.ipynb",
      "provenance": [],
      "collapsed_sections": []
    },
    "kernelspec": {
      "name": "python3",
      "display_name": "Python 3"
    },
    "language_info": {
      "name": "python"
    }
  },
  "cells": [
    {
      "cell_type": "code",
      "metadata": {
        "id": "--2M8lc2d4RZ"
      },
      "source": [
        "#import of libraries \n",
        "import numpy as np \n",
        "import pandas as pd\n",
        "from sklearn.tree import DecisionTreeClassifier\n",
        "import matplotlib.pyplot as plt"
      ],
      "execution_count": null,
      "outputs": []
    },
    {
      "cell_type": "code",
      "metadata": {
        "id": "zXdZyO2MepOd"
      },
      "source": [
        "#downloading of dataset\n",
        "!wget -O drug200.csv https://s3-api.us-geo.objectstorage.softlayer.net/cf-courses-data/CognitiveClass/ML0101ENv3/labs/drug200.csv"
      ],
      "execution_count": null,
      "outputs": []
    },
    {
      "cell_type": "code",
      "metadata": {
        "id": "0HZ3FIWueycb"
      },
      "source": [
        "df=pd.read_csv('drug200.csv' , delimiter=\",\")\n",
        "df.head()"
      ],
      "execution_count": null,
      "outputs": []
    },
    {
      "cell_type": "code",
      "metadata": {
        "id": "avSFpOzye5sk"
      },
      "source": [
        "plt.scatter(df.Age,df.Drug)\n",
        "plt.show()"
      ],
      "execution_count": null,
      "outputs": []
    },
    {
      "cell_type": "markdown",
      "metadata": {
        "id": "p250P7hpfMr8"
      },
      "source": [
        "#as here can we see it is not linear data so we cant use regression here so we use claasification <br>\n",
        "#here we are using decesion tree classifire"
      ]
    },
    {
      "cell_type": "code",
      "metadata": {
        "id": "mOvluF_KfU6-"
      },
      "source": [
        "#see what is attributes of our data set \n",
        "df.columns"
      ],
      "execution_count": null,
      "outputs": []
    },
    {
      "cell_type": "markdown",
      "metadata": {
        "id": "dnDRa7ynfn2l"
      },
      "source": [
        "#Pre-processing"
      ]
    },
    {
      "cell_type": "markdown",
      "metadata": {
        "id": "e62MBE4UfrtM"
      },
      "source": [
        "#here we define \n",
        "X as the Feature Matrix (data of my_data) <br>\n",
        "y as the response vector (target)"
      ]
    },
    {
      "cell_type": "code",
      "metadata": {
        "id": "EulSpso8fiYC"
      },
      "source": [
        "x = df[['Age','Sex','BP','Cholesterol','Na_to_K']].values\n",
        "x[0:5]"
      ],
      "execution_count": null,
      "outputs": []
    },
    {
      "cell_type": "code",
      "metadata": {
        "id": "mQ3sfL7VgJHN"
      },
      "source": [
        "from sklearn import preprocessing\n",
        "le_sex = preprocessing.LabelEncoder()\n",
        "le_sex.fit(['F','M'])\n",
        "x[:,1] = le_sex.transform(x[:,1]) \n",
        "\n",
        "\n",
        "le_BP = preprocessing.LabelEncoder()\n",
        "le_BP.fit([ 'LOW', 'NORMAL', 'HIGH'])\n",
        "x[:,2] = le_BP.transform(x[:,2])\n",
        "\n",
        "\n",
        "le_Chol = preprocessing.LabelEncoder()\n",
        "le_Chol.fit([ 'NORMAL', 'HIGH'])\n",
        "x[:,3] = le_Chol.transform(x[:,3]) \n",
        "\n",
        "x[0:5]\n"
      ],
      "execution_count": null,
      "outputs": []
    },
    {
      "cell_type": "code",
      "metadata": {
        "id": "nlP6idTpqTXH"
      },
      "source": [
        "y = df[['Drug']]\n",
        "y[0:5]"
      ],
      "execution_count": null,
      "outputs": []
    },
    {
      "cell_type": "code",
      "metadata": {
        "id": "Dt2Vu66uqblH"
      },
      "source": [
        "from sklearn.model_selection import train_test_split\n",
        "x_train,x_test,y_train,y_test = train_test_split(x,y,test_size=0.3,random_state=3)"
      ],
      "execution_count": null,
      "outputs": []
    },
    {
      "cell_type": "code",
      "metadata": {
        "id": "9wJ1ajSfwsz5"
      },
      "source": [
        "\n",
        "\n",
        "x=preprocessing.StandardScaler().fit(x).transform(x.astype(float))\n",
        "x[0:5]\n",
        "print(x_train.shape)\n",
        "print(y_train.shape)\n",
        "\n",
        "\n"
      ],
      "execution_count": null,
      "outputs": []
    },
    {
      "cell_type": "code",
      "metadata": {
        "id": "S0yN6A8Kyhvj"
      },
      "source": [
        "print(x_test.shape)\n",
        "print(y_test.shape)"
      ],
      "execution_count": null,
      "outputs": []
    },
    {
      "cell_type": "markdown",
      "metadata": {
        "id": "lz2Hc0OrysvQ"
      },
      "source": [
        "<h2>Modeling</h2>"
      ]
    },
    {
      "cell_type": "code",
      "metadata": {
        "id": "RimUM0iQyppI"
      },
      "source": [
        "Tree = DecisionTreeClassifier(criterion='entropy',max_depth=5)\n",
        "Tree"
      ],
      "execution_count": null,
      "outputs": []
    },
    {
      "cell_type": "code",
      "metadata": {
        "id": "rEpGIZclzK0p"
      },
      "source": [
        "Tree.fit(x_train,y_train)\n"
      ],
      "execution_count": null,
      "outputs": []
    },
    {
      "cell_type": "code",
      "metadata": {
        "id": "WfQs9VjIzU2h"
      },
      "source": [
        "pred = Tree.predict(x_test)"
      ],
      "execution_count": null,
      "outputs": []
    },
    {
      "cell_type": "code",
      "metadata": {
        "id": "oAfRkH34zb8B"
      },
      "source": [
        "print(pred[0:5])\n",
        "print(y_test[0:5])\n"
      ],
      "execution_count": null,
      "outputs": []
    },
    {
      "cell_type": "code",
      "metadata": {
        "id": "tOwo5v3X0DMC"
      },
      "source": [
        "from sklearn import metrics\n",
        "import matplotlib.pyplot as plt\n",
        "print(\"DecisionTrees's Accuracy: \", metrics.accuracy_score(y_test, pred))"
      ],
      "execution_count": null,
      "outputs": []
    },
    {
      "cell_type": "markdown",
      "metadata": {
        "id": "4IBNxhta2V8J"
      },
      "source": [
        "#here i am doing experiment with diffrent value of depth"
      ]
    },
    {
      "cell_type": "code",
      "metadata": {
        "id": "BL98f0eQ2L7Q"
      },
      "source": [
        "depth = 60\n",
        "mean_acc = np.zeros((depth-1))\n",
        "std_acc = np.zeros((depth-1))\n",
        "ConfustionMx = [];\n",
        "for n in range(1,depth):\n",
        "  model = DecisionTreeClassifier(criterion='entropy',max_depth=n).fit(x_train,y_train)\n",
        "  pred = model.predict(x_test)\n",
        "  mean_acc[n-1] = metrics.accuracy_score(y_test, pred)\n",
        "  \n",
        "mean_acc"
      ],
      "execution_count": null,
      "outputs": []
    },
    {
      "cell_type": "code",
      "metadata": {
        "id": "gGea12Lf2HIc"
      },
      "source": [
        "plt.plot(range(1,depth),mean_acc,'g')\n",
        "#plt.fill_between(range(1,Ks),mean_acc - 1 * std_acc,mean_acc + 1 * std_acc, alpha=0.10)\n",
        "plt.legend(('Accuracy ', '+/- 3xstd'))\n",
        "plt.ylabel('Accuracy ')\n",
        "plt.xlabel('Number of Nabors (K)')\n",
        "plt.tight_layout()\n",
        "plt.show()"
      ],
      "execution_count": null,
      "outputs": []
    },
    {
      "cell_type": "code",
      "metadata": {
        "id": "RFH_15e933Ar"
      },
      "source": [
        ""
      ],
      "execution_count": null,
      "outputs": []
    },
    {
      "cell_type": "markdown",
      "metadata": {
        "id": "N79IYmjH3hB8"
      },
      "source": [
        "#here as we can see accuracy remains constant after depth = 4 because dataset has 5 featurs so that it can go thourgh depth 4 "
      ]
    },
    {
      "cell_type": "markdown",
      "metadata": {
        "id": "SN9tBvGM36ks"
      },
      "source": [
        "#here se vizulization so we can get better idea "
      ]
    },
    {
      "cell_type": "code",
      "metadata": {
        "id": "c1w8FrbY33yi"
      },
      "source": [
        "from sklearn.externals.six import StringIO\n",
        "import pydotplus\n",
        "import matplotlib.image as mpimg\n",
        "from sklearn import tree\n",
        "%matplotlib inline "
      ],
      "execution_count": null,
      "outputs": []
    },
    {
      "cell_type": "code",
      "metadata": {
        "id": "CUUdgfA64Bsx"
      },
      "source": [
        "dot_data = StringIO()\n",
        "filename = \"drugtree.png\"\n",
        "featureNames = df.columns[0:5]\n",
        "targetNames = df[\"Drug\"].unique().tolist()\n",
        "out=tree.export_graphviz(Tree,feature_names=featureNames, out_file=dot_data, class_names= np.unique(y_train), filled=True,  special_characters=True,rotate=False)  \n",
        "graph = pydotplus.graph_from_dot_data(dot_data.getvalue())  \n",
        "graph.write_png(filename)\n",
        "img = mpimg.imread(filename)\n",
        "plt.figure(figsize=(100, 200))\n",
        "plt.imshow(img,interpolation='nearest')"
      ],
      "execution_count": null,
      "outputs": []
    },
    {
      "cell_type": "code",
      "metadata": {
        "id": "xeqPi2iR4iBi"
      },
      "source": [
        ""
      ],
      "execution_count": null,
      "outputs": []
    }
  ]
}