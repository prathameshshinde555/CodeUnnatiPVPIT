{
 "cells": [
  {
   "cell_type": "code",
   "execution_count": 1,
   "id": "67a3912a-a7fb-4d82-aed5-cc402c007f7a",
   "metadata": {},
   "outputs": [],
   "source": [
    "import itertools\n",
    "import numpy as np\n",
    "import matplotlib.pyplot as plt\n",
    "import pandas as pd\n",
    "import numpy as np\n",
    "from sklearn import preprocessing\n",
    "%matplotlib inline"
   ]
  },
  {
   "cell_type": "code",
   "execution_count": 2,
   "id": "56627fa4-7fb0-4a04-997b-177b9b113781",
   "metadata": {},
   "outputs": [],
   "source": [
    "df = pd.read_csv('customer_purchases.csv')"
   ]
  },
  {
   "cell_type": "code",
   "execution_count": 3,
   "id": "51ba9337-94ca-456b-bc84-c5c468639d84",
   "metadata": {},
   "outputs": [
    {
     "data": {
      "text/html": [
       "<div>\n",
       "<style scoped>\n",
       "    .dataframe tbody tr th:only-of-type {\n",
       "        vertical-align: middle;\n",
       "    }\n",
       "\n",
       "    .dataframe tbody tr th {\n",
       "        vertical-align: top;\n",
       "    }\n",
       "\n",
       "    .dataframe thead th {\n",
       "        text-align: right;\n",
       "    }\n",
       "</style>\n",
       "<table border=\"1\" class=\"dataframe\">\n",
       "  <thead>\n",
       "    <tr style=\"text-align: right;\">\n",
       "      <th></th>\n",
       "      <th>Age</th>\n",
       "      <th>Salary</th>\n",
       "      <th>Purchased</th>\n",
       "    </tr>\n",
       "  </thead>\n",
       "  <tbody>\n",
       "    <tr>\n",
       "      <th>395</th>\n",
       "      <td>46</td>\n",
       "      <td>41000</td>\n",
       "      <td>1</td>\n",
       "    </tr>\n",
       "    <tr>\n",
       "      <th>396</th>\n",
       "      <td>51</td>\n",
       "      <td>23000</td>\n",
       "      <td>1</td>\n",
       "    </tr>\n",
       "    <tr>\n",
       "      <th>397</th>\n",
       "      <td>50</td>\n",
       "      <td>20000</td>\n",
       "      <td>1</td>\n",
       "    </tr>\n",
       "    <tr>\n",
       "      <th>398</th>\n",
       "      <td>36</td>\n",
       "      <td>33000</td>\n",
       "      <td>0</td>\n",
       "    </tr>\n",
       "    <tr>\n",
       "      <th>399</th>\n",
       "      <td>49</td>\n",
       "      <td>36000</td>\n",
       "      <td>1</td>\n",
       "    </tr>\n",
       "  </tbody>\n",
       "</table>\n",
       "</div>"
      ],
      "text/plain": [
       "     Age  Salary  Purchased\n",
       "395   46   41000          1\n",
       "396   51   23000          1\n",
       "397   50   20000          1\n",
       "398   36   33000          0\n",
       "399   49   36000          1"
      ]
     },
     "execution_count": 3,
     "metadata": {},
     "output_type": "execute_result"
    }
   ],
   "source": [
    "df.tail()"
   ]
  },
  {
   "cell_type": "code",
   "execution_count": 4,
   "id": "578bb49d-9079-43e8-a164-d2294df33dfe",
   "metadata": {},
   "outputs": [
    {
     "data": {
      "text/plain": [
       "Purchased\n",
       "0    257\n",
       "1    143\n",
       "Name: count, dtype: int64"
      ]
     },
     "execution_count": 4,
     "metadata": {},
     "output_type": "execute_result"
    }
   ],
   "source": [
    "df['Purchased'].value_counts()"
   ]
  },
  {
   "cell_type": "code",
   "execution_count": 5,
   "id": "c71a68b9-9dfe-424d-97d3-987a441b8929",
   "metadata": {},
   "outputs": [
    {
     "data": {
      "text/plain": [
       "Index(['Age', 'Salary', 'Purchased'], dtype='object')"
      ]
     },
     "execution_count": 5,
     "metadata": {},
     "output_type": "execute_result"
    }
   ],
   "source": [
    "df.columns"
   ]
  },
  {
   "cell_type": "code",
   "execution_count": 6,
   "id": "36afa994-9ace-4f1f-a77e-6dc7fc19294c",
   "metadata": {},
   "outputs": [
    {
     "data": {
      "text/plain": [
       "array([[<Axes: title={'center': 'Salary'}>]], dtype=object)"
      ]
     },
     "execution_count": 6,
     "metadata": {},
     "output_type": "execute_result"
    },
    {
     "data": {
      "image/png": "[encoded data removed]",
      "text/plain": [
       "<Figure size 640x480 with 1 Axes>"
      ]
     },
     "metadata": {},
     "output_type": "display_data"
    }
   ],
   "source": [
    "df.hist(column='Salary', bins=50)"
   ]
  },
  {
   "cell_type": "code",
   "execution_count": 7,
   "id": "4b8721ce-a0ad-44be-8618-c9a17b0454f0",
   "metadata": {},
   "outputs": [
    {
     "data": {
      "text/plain": [
       "array([[   19, 19000],\n",
       "       [   35, 20000],\n",
       "       [   26, 43000],\n",
       "       [   27, 57000],\n",
       "       [   19, 76000]], dtype=int64)"
      ]
     },
     "execution_count": 7,
     "metadata": {},
     "output_type": "execute_result"
    }
   ],
   "source": [
    "X = df[['Age','Salary']] .values  #.astype(float)\n",
    "X[0:5]"
   ]
  },
  {
   "cell_type": "code",
   "execution_count": 8,
   "id": "70586ea2-993e-4add-af3d-5dd49f7b4c68",
   "metadata": {},
   "outputs": [
    {
     "data": {
      "text/plain": [
       "array([0, 0, 0, 0, 0], dtype=int64)"
      ]
     },
     "execution_count": 8,
     "metadata": {},
     "output_type": "execute_result"
    }
   ],
   "source": [
    "y = df['Purchased'].values\n",
    "y[0:5]"
   ]
  },
  {
   "cell_type": "code",
   "execution_count": 9,
   "id": "0e5944d8-8483-45d3-a219-b18b2693f5aa",
   "metadata": {},
   "outputs": [
    {
     "data": {
      "text/plain": [
       "array([[-1.78179743, -1.49004624],\n",
       "       [-0.25358736, -1.46068138],\n",
       "       [-1.11320552, -0.78528968],\n",
       "       [-1.01769239, -0.37418169],\n",
       "       [-1.78179743,  0.18375059]])"
      ]
     },
     "execution_count": 9,
     "metadata": {},
     "output_type": "execute_result"
    }
   ],
   "source": [
    "X = preprocessing.StandardScaler().fit(X).transform(X.astype(float))\n",
    "X[0:5]"
   ]
  },
  {
   "cell_type": "code",
   "execution_count": 10,
   "id": "194428c2-e5e4-489f-ba46-9295c479131b",
   "metadata": {},
   "outputs": [
    {
     "name": "stdout",
     "output_type": "stream",
     "text": [
      "Train set: (320, 2) (320,)\n",
      "Test set: (80, 2) (80,)\n"
     ]
    }
   ],
   "source": [
    "from sklearn.model_selection import train_test_split\n",
    "X_train, X_test, y_train, y_test = train_test_split( X, y, test_size=0.2, random_state=0)\n",
    "print ('Train set:', X_train.shape,  y_train.shape)\n",
    "print ('Test set:', X_test.shape,  y_test.shape)"
   ]
  },
  {
   "cell_type": "code",
   "execution_count": 11,
   "id": "bf8664d2-fd93-40c6-be6e-d2c32137032d",
   "metadata": {},
   "outputs": [],
   "source": [
    "from sklearn.neighbors import KNeighborsClassifier"
   ]
  },
  {
   "cell_type": "code",
   "execution_count": 12,
   "id": "576b4f88-d71d-4b4b-9891-9230b144b0bd",
   "metadata": {},
   "outputs": [
    {
     "data": {
      "text/html": [
       "<style>#sk-container-id-1 {color: black;}#sk-container-id-1 pre{padding: 0;}#sk-container-id-1 div.sk-toggleable {background-color: white;}#sk-container-id-1 label.sk-toggleable__label {cursor: pointer;display: block;width: 100%;margin-bottom: 0;padding: 0.3em;box-sizing: border-box;text-align: center;}#sk-container-id-1 label.sk-toggleable__label-arrow:before {content: \"▸\";float: left;margin-right: 0.25em;color: #696969;}#sk-container-id-1 label.sk-toggleable__label-arrow:hover:before {color: black;}#sk-container-id-1 div.sk-estimator:hover label.sk-toggleable__label-arrow:before {color: black;}#sk-container-id-1 div.sk-toggleable__content {max-height: 0;max-width: 0;overflow: hidden;text-align: left;background-color: #f0f8ff;}#sk-container-id-1 div.sk-toggleable__content pre {margin: 0.2em;color: black;border-radius: 0.25em;background-color: #f0f8ff;}#sk-container-id-1 input.sk-toggleable__control:checked~div.sk-toggleable__content {max-height: 200px;max-width: 100%;overflow: auto;}#sk-container-id-1 input.sk-toggleable__control:checked~label.sk-toggleable__label-arrow:before {content: \"▾\";}#sk-container-id-1 div.sk-estimator input.sk-toggleable__control:checked~label.sk-toggleable__label {background-color: #d4ebff;}#sk-container-id-1 div.sk-label input.sk-toggleable__control:checked~label.sk-toggleable__label {background-color: #d4ebff;}#sk-container-id-1 input.sk-hidden--visually {border: 0;clip: rect(1px 1px 1px 1px);clip: rect(1px, 1px, 1px, 1px);height: 1px;margin: -1px;overflow: hidden;padding: 0;position: absolute;width: 1px;}#sk-container-id-1 div.sk-estimator {font-family: monospace;background-color: #f0f8ff;border: 1px dotted black;border-radius: 0.25em;box-sizing: border-box;margin-bottom: 0.5em;}#sk-container-id-1 div.sk-estimator:hover {background-color: #d4ebff;}#sk-container-id-1 div.sk-parallel-item::after {content: \"\";width: 100%;border-bottom: 1px solid gray;flex-grow: 1;}#sk-container-id-1 div.sk-label:hover label.sk-toggleable__label {background-color: #d4ebff;}#sk-container-id-1 div.sk-serial::before {content: \"\";position: absolute;border-left: 1px solid gray;box-sizing: border-box;top: 0;bottom: 0;left: 50%;z-index: 0;}#sk-container-id-1 div.sk-serial {display: flex;flex-direction: column;align-items: center;background-color: white;padding-right: 0.2em;padding-left: 0.2em;position: relative;}#sk-container-id-1 div.sk-item {position: relative;z-index: 1;}#sk-container-id-1 div.sk-parallel {display: flex;align-items: stretch;justify-content: center;background-color: white;position: relative;}#sk-container-id-1 div.sk-item::before, #sk-container-id-1 div.sk-parallel-item::before {content: \"\";position: absolute;border-left: 1px solid gray;box-sizing: border-box;top: 0;bottom: 0;left: 50%;z-index: -1;}#sk-container-id-1 div.sk-parallel-item {display: flex;flex-direction: column;z-index: 1;position: relative;background-color: white;}#sk-container-id-1 div.sk-parallel-item:first-child::after {align-self: flex-end;width: 50%;}#sk-container-id-1 div.sk-parallel-item:last-child::after {align-self: flex-start;width: 50%;}#sk-container-id-1 div.sk-parallel-item:only-child::after {width: 0;}#sk-container-id-1 div.sk-dashed-wrapped {border: 1px dashed gray;margin: 0 0.4em 0.5em 0.4em;box-sizing: border-box;padding-bottom: 0.4em;background-color: white;}#sk-container-id-1 div.sk-label label {font-family: monospace;font-weight: bold;display: inline-block;line-height: 1.2em;}#sk-container-id-1 div.sk-label-container {text-align: center;}#sk-container-id-1 div.sk-container {/* jupyter's `normalize.less` sets `[hidden] { display: none; }` but bootstrap.min.css set `[hidden] { display: none !important; }` so we also need the `!important` here to be able to override the default hidden behavior on the sphinx rendered scikit-learn.org. See: https://github.com/scikit-learn/scikit-learn/issues/21755 */display: inline-block !important;position: relative;}#sk-container-id-1 div.sk-text-repr-fallback {display: none;}</style><div id=\"sk-container-id-1\" class=\"sk-top-container\"><div class=\"sk-text-repr-fallback\"><pre>KNeighborsClassifier(n_neighbors=4)</pre><b>In a Jupyter environment, please rerun this cell to show the HTML representation or trust the notebook. <br />On GitHub, the HTML representation is unable to render, please try loading this page with nbviewer.org.</b></div><div class=\"sk-container\" hidden><div class=\"sk-item\"><div class=\"sk-estimator sk-toggleable\"><input class=\"sk-toggleable__control sk-hidden--visually\" id=\"sk-estimator-id-1\" type=\"checkbox\" checked><label for=\"sk-estimator-id-1\" class=\"sk-toggleable__label sk-toggleable__label-arrow\">KNeighborsClassifier</label><div class=\"sk-toggleable__content\"><pre>KNeighborsClassifier(n_neighbors=4)</pre></div></div></div></div></div>"
      ],
      "text/plain": [
       "KNeighborsClassifier(n_neighbors=4)"
      ]
     },
     "execution_count": 12,
     "metadata": {},
     "output_type": "execute_result"
    }
   ],
   "source": [
    "k = 4\n",
    "#Train Model and Predict  \n",
    "neigh = KNeighborsClassifier(n_neighbors = k).fit(X_train,y_train)\n",
    "neigh"
   ]
  },
  {
   "cell_type": "code",
   "execution_count": 13,
   "id": "e7d7c778-5400-4baa-8863-31f759622349",
   "metadata": {},
   "outputs": [
    {
     "data": {
      "text/plain": [
       "array([0, 0, 0, 0, 0], dtype=int64)"
      ]
     },
     "execution_count": 13,
     "metadata": {},
     "output_type": "execute_result"
    }
   ],
   "source": [
    "yhat = neigh.predict(X_test)\n",
    "yhat[0:5]"
   ]
  },
  {
   "cell_type": "code",
   "execution_count": 14,
   "id": "8a21b2cf-1eca-4c39-bb57-a1694363e446",
   "metadata": {},
   "outputs": [
    {
     "name": "stdout",
     "output_type": "stream",
     "text": [
      "Train set Accuracy:  0.90625\n",
      "Test set Accuracy:  0.95\n"
     ]
    }
   ],
   "source": [
    "from sklearn import metrics\n",
    "print(\"Train set Accuracy: \", metrics.accuracy_score(y_train, neigh.predict(X_train)))\n",
    "print(\"Test set Accuracy: \", metrics.accuracy_score(y_test, yhat))"
   ]
  },
  {
   "cell_type": "code",
   "execution_count": 15,
   "id": "dad74620-4d1d-4ef6-a673-1090e1a600fb",
   "metadata": {},
   "outputs": [
    {
     "data": {
      "text/plain": [
       "array([0.8875, 0.8875, 0.95  , 0.95  , 0.95  , 0.95  , 0.95  , 0.95  ,\n",
       "       0.95  ])"
      ]
     },
     "execution_count": 15,
     "metadata": {},
     "output_type": "execute_result"
    }
   ],
   "source": [
    "Ks = 10\n",
    "mean_acc = np.zeros((Ks-1))\n",
    "std_acc = np.zeros((Ks-1))\n",
    "ConfustionMx = [];\n",
    "for n in range(1,Ks):\n",
    "    \n",
    "    #Train Model and Predict  \n",
    "    neigh = KNeighborsClassifier(n_neighbors = n).fit(X_train,y_train)\n",
    "    yhat=neigh.predict(X_test)\n",
    "    mean_acc[n-1] = metrics.accuracy_score(y_test, yhat)\n",
    "\n",
    "mean_acc"
   ]
  },
  {
   "cell_type": "code",
   "execution_count": 16,
   "id": "812826d4-1b35-461d-a372-e60d932321ac",
   "metadata": {},
   "outputs": [
    {
     "data": {
      "image/png": "[encoded data removed]",
      "text/plain": [
       "<Figure size 640x480 with 1 Axes>"
      ]
     },
     "metadata": {},
     "output_type": "display_data"
    }
   ],
   "source": [
    "plt.plot(range(1,Ks),mean_acc,'g')\n",
    "plt.ylabel('Accuracy ')\n",
    "plt.xlabel('Number of Nabors (K)')\n",
    "plt.tight_layout()\n",
    "plt.show()"
   ]
  },
  {
   "cell_type": "code",
   "execution_count": 17,
   "id": "abe8323f-0285-410a-8825-d3e8b9b6eb50",
   "metadata": {},
   "outputs": [
    {
     "name": "stdout",
     "output_type": "stream",
     "text": [
      "The best accuracy was with 0.95 with k= 3\n"
     ]
    }
   ],
   "source": [
    "print( \"The best accuracy was with\", mean_acc.max(), \"with k=\", mean_acc.argmax()+1) "
   ]
  },
  {
   "cell_type": "code",
   "execution_count": null,
   "id": "310a8a0a-5ebc-4f09-9b78-882d862c6079",
   "metadata": {},
   "outputs": [],
   "source": []
  },
  {
   "cell_type": "code",
   "execution_count": null,
   "id": "297ca07f-df20-48c1-a7fd-6ce84ccebf41",
   "metadata": {},
   "outputs": [],
   "source": []
  },
  {
   "cell_type": "code",
   "execution_count": 18,
   "id": "ea3c1069-9d79-4b2a-8f9a-7c2eb913304e",
   "metadata": {},
   "outputs": [],
   "source": [
    "df = pd.read_csv('data.csv')"
   ]
  },
  {
   "cell_type": "code",
   "execution_count": 19,
   "id": "60f4d61c-dd09-4569-9cd6-6f1acc5e1ec1",
   "metadata": {},
   "outputs": [],
   "source": [
    "df['diagnosis'] = df['diagnosis'].map({'M': 1, 'B': 0})"
   ]
  },
  {
   "cell_type": "code",
   "execution_count": 20,
   "id": "aed4c8ac-2c87-4f08-9867-84cb5a58012b",
   "metadata": {},
   "outputs": [
    {
     "data": {
      "text/html": [
       "<div>\n",
       "<style scoped>\n",
       "    .dataframe tbody tr th:only-of-type {\n",
       "        vertical-align: middle;\n",
       "    }\n",
       "\n",
       "    .dataframe tbody tr th {\n",
       "        vertical-align: top;\n",
       "    }\n",
       "\n",
       "    .dataframe thead th {\n",
       "        text-align: right;\n",
       "    }\n",
       "</style>\n",
       "<table border=\"1\" class=\"dataframe\">\n",
       "  <thead>\n",
       "    <tr style=\"text-align: right;\">\n",
       "      <th></th>\n",
       "      <th>id</th>\n",
       "      <th>diagnosis</th>\n",
       "      <th>radius_mean</th>\n",
       "      <th>texture_mean</th>\n",
       "      <th>perimeter_mean</th>\n",
       "      <th>area_mean</th>\n",
       "      <th>smoothness_mean</th>\n",
       "      <th>compactness_mean</th>\n",
       "      <th>concavity_mean</th>\n",
       "      <th>concave points_mean</th>\n",
       "      <th>...</th>\n",
       "      <th>texture_worst</th>\n",
       "      <th>perimeter_worst</th>\n",
       "      <th>area_worst</th>\n",
       "      <th>smoothness_worst</th>\n",
       "      <th>compactness_worst</th>\n",
       "      <th>concavity_worst</th>\n",
       "      <th>concave points_worst</th>\n",
       "      <th>symmetry_worst</th>\n",
       "      <th>fractal_dimension_worst</th>\n",
       "      <th>Unnamed: 32</th>\n",
       "    </tr>\n",
       "  </thead>\n",
       "  <tbody>\n",
       "    <tr>\n",
       "      <th>564</th>\n",
       "      <td>926424</td>\n",
       "      <td>1</td>\n",
       "      <td>21.56</td>\n",
       "      <td>22.39</td>\n",
       "      <td>142.00</td>\n",
       "      <td>1479.0</td>\n",
       "      <td>0.11100</td>\n",
       "      <td>0.11590</td>\n",
       "      <td>0.24390</td>\n",
       "      <td>0.13890</td>\n",
       "      <td>...</td>\n",
       "      <td>26.40</td>\n",
       "      <td>166.10</td>\n",
       "      <td>2027.0</td>\n",
       "      <td>0.14100</td>\n",
       "      <td>0.21130</td>\n",
       "      <td>0.4107</td>\n",
       "      <td>0.2216</td>\n",
       "      <td>0.2060</td>\n",
       "      <td>0.07115</td>\n",
       "      <td>NaN</td>\n",
       "    </tr>\n",
       "    <tr>\n",
       "      <th>565</th>\n",
       "      <td>926682</td>\n",
       "      <td>1</td>\n",
       "      <td>20.13</td>\n",
       "      <td>28.25</td>\n",
       "      <td>131.20</td>\n",
       "      <td>1261.0</td>\n",
       "      <td>0.09780</td>\n",
       "      <td>0.10340</td>\n",
       "      <td>0.14400</td>\n",
       "      <td>0.09791</td>\n",
       "      <td>...</td>\n",
       "      <td>38.25</td>\n",
       "      <td>155.00</td>\n",
       "      <td>1731.0</td>\n",
       "      <td>0.11660</td>\n",
       "      <td>0.19220</td>\n",
       "      <td>0.3215</td>\n",
       "      <td>0.1628</td>\n",
       "      <td>0.2572</td>\n",
       "      <td>0.06637</td>\n",
       "      <td>NaN</td>\n",
       "    </tr>\n",
       "    <tr>\n",
       "      <th>566</th>\n",
       "      <td>926954</td>\n",
       "      <td>1</td>\n",
       "      <td>16.60</td>\n",
       "      <td>28.08</td>\n",
       "      <td>108.30</td>\n",
       "      <td>858.1</td>\n",
       "      <td>0.08455</td>\n",
       "      <td>0.10230</td>\n",
       "      <td>0.09251</td>\n",
       "      <td>0.05302</td>\n",
       "      <td>...</td>\n",
       "      <td>34.12</td>\n",
       "      <td>126.70</td>\n",
       "      <td>1124.0</td>\n",
       "      <td>0.11390</td>\n",
       "      <td>0.30940</td>\n",
       "      <td>0.3403</td>\n",
       "      <td>0.1418</td>\n",
       "      <td>0.2218</td>\n",
       "      <td>0.07820</td>\n",
       "      <td>NaN</td>\n",
       "    </tr>\n",
       "    <tr>\n",
       "      <th>567</th>\n",
       "      <td>927241</td>\n",
       "      <td>1</td>\n",
       "      <td>20.60</td>\n",
       "      <td>29.33</td>\n",
       "      <td>140.10</td>\n",
       "      <td>1265.0</td>\n",
       "      <td>0.11780</td>\n",
       "      <td>0.27700</td>\n",
       "      <td>0.35140</td>\n",
       "      <td>0.15200</td>\n",
       "      <td>...</td>\n",
       "      <td>39.42</td>\n",
       "      <td>184.60</td>\n",
       "      <td>1821.0</td>\n",
       "      <td>0.16500</td>\n",
       "      <td>0.86810</td>\n",
       "      <td>0.9387</td>\n",
       "      <td>0.2650</td>\n",
       "      <td>0.4087</td>\n",
       "      <td>0.12400</td>\n",
       "      <td>NaN</td>\n",
       "    </tr>\n",
       "    <tr>\n",
       "      <th>568</th>\n",
       "      <td>92751</td>\n",
       "      <td>0</td>\n",
       "      <td>7.76</td>\n",
       "      <td>24.54</td>\n",
       "      <td>47.92</td>\n",
       "      <td>181.0</td>\n",
       "      <td>0.05263</td>\n",
       "      <td>0.04362</td>\n",
       "      <td>0.00000</td>\n",
       "      <td>0.00000</td>\n",
       "      <td>...</td>\n",
       "      <td>30.37</td>\n",
       "      <td>59.16</td>\n",
       "      <td>268.6</td>\n",
       "      <td>0.08996</td>\n",
       "      <td>0.06444</td>\n",
       "      <td>0.0000</td>\n",
       "      <td>0.0000</td>\n",
       "      <td>0.2871</td>\n",
       "      <td>0.07039</td>\n",
       "      <td>NaN</td>\n",
       "    </tr>\n",
       "  </tbody>\n",
       "</table>\n",
       "<p>5 rows × 33 columns</p>\n",
       "</div>"
      ],
      "text/plain": [
       "         id  diagnosis  radius_mean  texture_mean  perimeter_mean  area_mean  \\\n",
       "564  926424          1        21.56         22.39          142.00     1479.0   \n",
       "565  926682          1        20.13         28.25          131.20     1261.0   \n",
       "566  926954          1        16.60         28.08          108.30      858.1   \n",
       "567  927241          1        20.60         29.33          140.10     1265.0   \n",
       "568   92751          0         7.76         24.54           47.92      181.0   \n",
       "\n",
       "     smoothness_mean  compactness_mean  concavity_mean  concave points_mean  \\\n",
       "564          0.11100           0.11590         0.24390              0.13890   \n",
       "565          0.09780           0.10340         0.14400              0.09791   \n",
       "566          0.08455           0.10230         0.09251              0.05302   \n",
       "567          0.11780           0.27700         0.35140              0.15200   \n",
       "568          0.05263           0.04362         0.00000              0.00000   \n",
       "\n",
       "     ...  texture_worst  perimeter_worst  area_worst  smoothness_worst  \\\n",
       "564  ...          26.40           166.10      2027.0           0.14100   \n",
       "565  ...          38.25           155.00      1731.0           0.11660   \n",
       "566  ...          34.12           126.70      1124.0           0.11390   \n",
       "567  ...          39.42           184.60      1821.0           0.16500   \n",
       "568  ...          30.37            59.16       268.6           0.08996   \n",
       "\n",
       "     compactness_worst  concavity_worst  concave points_worst  symmetry_worst  \\\n",
       "564            0.21130           0.4107                0.2216          0.2060   \n",
       "565            0.19220           0.3215                0.1628          0.2572   \n",
       "566            0.30940           0.3403                0.1418          0.2218   \n",
       "567            0.86810           0.9387                0.2650          0.4087   \n",
       "568            0.06444           0.0000                0.0000          0.2871   \n",
       "\n",
       "     fractal_dimension_worst  Unnamed: 32  \n",
       "564                  0.07115          NaN  \n",
       "565                  0.06637          NaN  \n",
       "566                  0.07820          NaN  \n",
       "567                  0.12400          NaN  \n",
       "568                  0.07039          NaN  \n",
       "\n",
       "[5 rows x 33 columns]"
      ]
     },
     "execution_count": 20,
     "metadata": {},
     "output_type": "execute_result"
    }
   ],
   "source": [
    "df.tail()"
   ]
  },
  {
   "cell_type": "code",
   "execution_count": 21,
   "id": "74aa0786-42d9-4fcf-b2c2-6655c24686bc",
   "metadata": {},
   "outputs": [
    {
     "data": {
      "text/plain": [
       "diagnosis\n",
       "0    357\n",
       "1    212\n",
       "Name: count, dtype: int64"
      ]
     },
     "execution_count": 21,
     "metadata": {},
     "output_type": "execute_result"
    }
   ],
   "source": [
    "df['diagnosis'].value_counts()"
   ]
  },
  {
   "cell_type": "code",
   "execution_count": 22,
   "id": "c881afc1-768a-4a26-9a48-2bcdd510be5b",
   "metadata": {},
   "outputs": [
    {
     "data": {
      "text/plain": [
       "Index(['id', 'diagnosis', 'radius_mean', 'texture_mean', 'perimeter_mean',\n",
       "       'area_mean', 'smoothness_mean', 'compactness_mean', 'concavity_mean',\n",
       "       'concave points_mean', 'symmetry_mean', 'fractal_dimension_mean',\n",
       "       'radius_se', 'texture_se', 'perimeter_se', 'area_se', 'smoothness_se',\n",
       "       'compactness_se', 'concavity_se', 'concave points_se', 'symmetry_se',\n",
       "       'fractal_dimension_se', 'radius_worst', 'texture_worst',\n",
       "       'perimeter_worst', 'area_worst', 'smoothness_worst',\n",
       "       'compactness_worst', 'concavity_worst', 'concave points_worst',\n",
       "       'symmetry_worst', 'fractal_dimension_worst', 'Unnamed: 32'],\n",
       "      dtype='object')"
      ]
     },
     "execution_count": 22,
     "metadata": {},
     "output_type": "execute_result"
    }
   ],
   "source": [
    "df.columns"
   ]
  },
  {
   "cell_type": "code",
   "execution_count": 23,
   "id": "c6c45da5-2113-46f4-b991-8f0796c0c4a5",
   "metadata": {},
   "outputs": [
    {
     "data": {
      "text/plain": [
       "array([[<Axes: title={'center': 'texture_mean'}>]], dtype=object)"
      ]
     },
     "execution_count": 23,
     "metadata": {},
     "output_type": "execute_result"
    },
    {
     "data": {
      "image/png": "[encoded data removed]",
      "text/plain": [
       "<Figure size 640x480 with 1 Axes>"
      ]
     },
     "metadata": {},
     "output_type": "display_data"
    }
   ],
   "source": [
    "df.hist(column='texture_mean', bins=50)"
   ]
  },
  {
   "cell_type": "code",
   "execution_count": 35,
   "id": "9a05e7d7-63f6-430f-bd98-dd2f0d30b07e",
   "metadata": {},
   "outputs": [
    {
     "data": {
      "text/plain": [
       "array([[1.799e+01, 1.038e+01, 1.228e+02, 1.001e+03, 1.184e-01, 2.776e-01,\n",
       "        3.001e-01, 1.471e-01, 2.419e-01, 7.871e-02, 1.095e+00, 9.053e-01,\n",
       "        8.589e+00, 1.534e+02, 6.399e-03, 4.904e-02, 5.373e-02, 1.587e-02,\n",
       "        3.003e-02, 6.193e-03, 2.538e+01, 1.733e+01, 1.846e+02, 2.019e+03,\n",
       "        1.622e-01, 6.656e-01, 7.119e-01, 2.654e-01, 4.601e-01, 1.189e-01,\n",
       "              nan],\n",
       "       [2.057e+01, 1.777e+01, 1.329e+02, 1.326e+03, 8.474e-02, 7.864e-02,\n",
       "        8.690e-02, 7.017e-02, 1.812e-01, 5.667e-02, 5.435e-01, 7.339e-01,\n",
       "        3.398e+00, 7.408e+01, 5.225e-03, 1.308e-02, 1.860e-02, 1.340e-02,\n",
       "        1.389e-02, 3.532e-03, 2.499e+01, 2.341e+01, 1.588e+02, 1.956e+03,\n",
       "        1.238e-01, 1.866e-01, 2.416e-01, 1.860e-01, 2.750e-01, 8.902e-02,\n",
       "              nan],\n",
       "       [1.969e+01, 2.125e+01, 1.300e+02, 1.203e+03, 1.096e-01, 1.599e-01,\n",
       "        1.974e-01, 1.279e-01, 2.069e-01, 5.999e-02, 7.456e-01, 7.869e-01,\n",
       "        4.585e+00, 9.403e+01, 6.150e-03, 4.006e-02, 3.832e-02, 2.058e-02,\n",
       "        2.250e-02, 4.571e-03, 2.357e+01, 2.553e+01, 1.525e+02, 1.709e+03,\n",
       "        1.444e-01, 4.245e-01, 4.504e-01, 2.430e-01, 3.613e-01, 8.758e-02,\n",
       "              nan],\n",
       "       [1.142e+01, 2.038e+01, 7.758e+01, 3.861e+02, 1.425e-01, 2.839e-01,\n",
       "        2.414e-01, 1.052e-01, 2.597e-01, 9.744e-02, 4.956e-01, 1.156e+00,\n",
       "        3.445e+00, 2.723e+01, 9.110e-03, 7.458e-02, 5.661e-02, 1.867e-02,\n",
       "        5.963e-02, 9.208e-03, 1.491e+01, 2.650e+01, 9.887e+01, 5.677e+02,\n",
       "        2.098e-01, 8.663e-01, 6.869e-01, 2.575e-01, 6.638e-01, 1.730e-01,\n",
       "              nan],\n",
       "       [2.029e+01, 1.434e+01, 1.351e+02, 1.297e+03, 1.003e-01, 1.328e-01,\n",
       "        1.980e-01, 1.043e-01, 1.809e-01, 5.883e-02, 7.572e-01, 7.813e-01,\n",
       "        5.438e+00, 9.444e+01, 1.149e-02, 2.461e-02, 5.688e-02, 1.885e-02,\n",
       "        1.756e-02, 5.115e-03, 2.254e+01, 1.667e+01, 1.522e+02, 1.575e+03,\n",
       "        1.374e-01, 2.050e-01, 4.000e-01, 1.625e-01, 2.364e-01, 7.678e-02,\n",
       "              nan],\n",
       "       [1.245e+01, 1.570e+01, 8.257e+01, 4.771e+02, 1.278e-01, 1.700e-01,\n",
       "        1.578e-01, 8.089e-02, 2.087e-01, 7.613e-02, 3.345e-01, 8.902e-01,\n",
       "        2.217e+00, 2.719e+01, 7.510e-03, 3.345e-02, 3.672e-02, 1.137e-02,\n",
       "        2.165e-02, 5.082e-03, 1.547e+01, 2.375e+01, 1.034e+02, 7.416e+02,\n",
       "        1.791e-01, 5.249e-01, 5.355e-01, 1.741e-01, 3.985e-01, 1.244e-01,\n",
       "              nan],\n",
       "       [1.825e+01, 1.998e+01, 1.196e+02, 1.040e+03, 9.463e-02, 1.090e-01,\n",
       "        1.127e-01, 7.400e-02, 1.794e-01, 5.742e-02, 4.467e-01, 7.732e-01,\n",
       "        3.180e+00, 5.391e+01, 4.314e-03, 1.382e-02, 2.254e-02, 1.039e-02,\n",
       "        1.369e-02, 2.179e-03, 2.288e+01, 2.766e+01, 1.532e+02, 1.606e+03,\n",
       "        1.442e-01, 2.576e-01, 3.784e-01, 1.932e-01, 3.063e-01, 8.368e-02,\n",
       "              nan],\n",
       "       [1.371e+01, 2.083e+01, 9.020e+01, 5.779e+02, 1.189e-01, 1.645e-01,\n",
       "        9.366e-02, 5.985e-02, 2.196e-01, 7.451e-02, 5.835e-01, 1.377e+00,\n",
       "        3.856e+00, 5.096e+01, 8.805e-03, 3.029e-02, 2.488e-02, 1.448e-02,\n",
       "        1.486e-02, 5.412e-03, 1.706e+01, 2.814e+01, 1.106e+02, 8.970e+02,\n",
       "        1.654e-01, 3.682e-01, 2.678e-01, 1.556e-01, 3.196e-01, 1.151e-01,\n",
       "              nan],\n",
       "       [1.300e+01, 2.182e+01, 8.750e+01, 5.198e+02, 1.273e-01, 1.932e-01,\n",
       "        1.859e-01, 9.353e-02, 2.350e-01, 7.389e-02, 3.063e-01, 1.002e+00,\n",
       "        2.406e+00, 2.432e+01, 5.731e-03, 3.502e-02, 3.553e-02, 1.226e-02,\n",
       "        2.143e-02, 3.749e-03, 1.549e+01, 3.073e+01, 1.062e+02, 7.393e+02,\n",
       "        1.703e-01, 5.401e-01, 5.390e-01, 2.060e-01, 4.378e-01, 1.072e-01,\n",
       "              nan],\n",
       "       [1.246e+01, 2.404e+01, 8.397e+01, 4.759e+02, 1.186e-01, 2.396e-01,\n",
       "        2.273e-01, 8.543e-02, 2.030e-01, 8.243e-02, 2.976e-01, 1.599e+00,\n",
       "        2.039e+00, 2.394e+01, 7.149e-03, 7.217e-02, 7.743e-02, 1.432e-02,\n",
       "        1.789e-02, 1.008e-02, 1.509e+01, 4.068e+01, 9.765e+01, 7.114e+02,\n",
       "        1.853e-01, 1.058e+00, 1.105e+00, 2.210e-01, 4.366e-01, 2.075e-01,\n",
       "              nan],\n",
       "       [1.602e+01, 2.324e+01, 1.027e+02, 7.978e+02, 8.206e-02, 6.669e-02,\n",
       "        3.299e-02, 3.323e-02, 1.528e-01, 5.697e-02, 3.795e-01, 1.187e+00,\n",
       "        2.466e+00, 4.051e+01, 4.029e-03, 9.269e-03, 1.101e-02, 7.591e-03,\n",
       "        1.460e-02, 3.042e-03, 1.919e+01, 3.388e+01, 1.238e+02, 1.150e+03,\n",
       "        1.181e-01, 1.551e-01, 1.459e-01, 9.975e-02, 2.948e-01, 8.452e-02,\n",
       "              nan],\n",
       "       [1.578e+01, 1.789e+01, 1.036e+02, 7.810e+02, 9.710e-02, 1.292e-01,\n",
       "        9.954e-02, 6.606e-02, 1.842e-01, 6.082e-02, 5.058e-01, 9.849e-01,\n",
       "        3.564e+00, 5.416e+01, 5.771e-03, 4.061e-02, 2.791e-02, 1.282e-02,\n",
       "        2.008e-02, 4.144e-03, 2.042e+01, 2.728e+01, 1.365e+02, 1.299e+03,\n",
       "        1.396e-01, 5.609e-01, 3.965e-01, 1.810e-01, 3.792e-01, 1.048e-01,\n",
       "              nan],\n",
       "       [1.917e+01, 2.480e+01, 1.324e+02, 1.123e+03, 9.740e-02, 2.458e-01,\n",
       "        2.065e-01, 1.118e-01, 2.397e-01, 7.800e-02, 9.555e-01, 3.568e+00,\n",
       "        1.107e+01, 1.162e+02, 3.139e-03, 8.297e-02, 8.890e-02, 4.090e-02,\n",
       "        4.484e-02, 1.284e-02, 2.096e+01, 2.994e+01, 1.517e+02, 1.332e+03,\n",
       "        1.037e-01, 3.903e-01, 3.639e-01, 1.767e-01, 3.176e-01, 1.023e-01,\n",
       "              nan],\n",
       "       [1.585e+01, 2.395e+01, 1.037e+02, 7.827e+02, 8.401e-02, 1.002e-01,\n",
       "        9.938e-02, 5.364e-02, 1.847e-01, 5.338e-02, 4.033e-01, 1.078e+00,\n",
       "        2.903e+00, 3.658e+01, 9.769e-03, 3.126e-02, 5.051e-02, 1.992e-02,\n",
       "        2.981e-02, 3.002e-03, 1.684e+01, 2.766e+01, 1.120e+02, 8.765e+02,\n",
       "        1.131e-01, 1.924e-01, 2.322e-01, 1.119e-01, 2.809e-01, 6.287e-02,\n",
       "              nan],\n",
       "       [1.373e+01, 2.261e+01, 9.360e+01, 5.783e+02, 1.131e-01, 2.293e-01,\n",
       "        2.128e-01, 8.025e-02, 2.069e-01, 7.682e-02, 2.121e-01, 1.169e+00,\n",
       "        2.061e+00, 1.921e+01, 6.429e-03, 5.936e-02, 5.501e-02, 1.628e-02,\n",
       "        1.961e-02, 8.093e-03, 1.503e+01, 3.201e+01, 1.088e+02, 6.977e+02,\n",
       "        1.651e-01, 7.725e-01, 6.943e-01, 2.208e-01, 3.596e-01, 1.431e-01,\n",
       "              nan],\n",
       "       [1.454e+01, 2.754e+01, 9.673e+01, 6.588e+02, 1.139e-01, 1.595e-01,\n",
       "        1.639e-01, 7.364e-02, 2.303e-01, 7.077e-02, 3.700e-01, 1.033e+00,\n",
       "        2.879e+00, 3.255e+01, 5.607e-03, 4.240e-02, 4.741e-02, 1.090e-02,\n",
       "        1.857e-02, 5.466e-03, 1.746e+01, 3.713e+01, 1.241e+02, 9.432e+02,\n",
       "        1.678e-01, 6.577e-01, 7.026e-01, 1.712e-01, 4.218e-01, 1.341e-01,\n",
       "              nan],\n",
       "       [1.468e+01, 2.013e+01, 9.474e+01, 6.845e+02, 9.867e-02, 7.200e-02,\n",
       "        7.395e-02, 5.259e-02, 1.586e-01, 5.922e-02, 4.727e-01, 1.240e+00,\n",
       "        3.195e+00, 4.540e+01, 5.718e-03, 1.162e-02, 1.998e-02, 1.109e-02,\n",
       "        1.410e-02, 2.085e-03, 1.907e+01, 3.088e+01, 1.234e+02, 1.138e+03,\n",
       "        1.464e-01, 1.871e-01, 2.914e-01, 1.609e-01, 3.029e-01, 8.216e-02,\n",
       "              nan],\n",
       "       [1.613e+01, 2.068e+01, 1.081e+02, 7.988e+02, 1.170e-01, 2.022e-01,\n",
       "        1.722e-01, 1.028e-01, 2.164e-01, 7.356e-02, 5.692e-01, 1.073e+00,\n",
       "        3.854e+00, 5.418e+01, 7.026e-03, 2.501e-02, 3.188e-02, 1.297e-02,\n",
       "        1.689e-02, 4.142e-03, 2.096e+01, 3.148e+01, 1.368e+02, 1.315e+03,\n",
       "        1.789e-01, 4.233e-01, 4.784e-01, 2.073e-01, 3.706e-01, 1.142e-01,\n",
       "              nan],\n",
       "       [1.981e+01, 2.215e+01, 1.300e+02, 1.260e+03, 9.831e-02, 1.027e-01,\n",
       "        1.479e-01, 9.498e-02, 1.582e-01, 5.395e-02, 7.582e-01, 1.017e+00,\n",
       "        5.865e+00, 1.124e+02, 6.494e-03, 1.893e-02, 3.391e-02, 1.521e-02,\n",
       "        1.356e-02, 1.997e-03, 2.732e+01, 3.088e+01, 1.868e+02, 2.398e+03,\n",
       "        1.512e-01, 3.150e-01, 5.372e-01, 2.388e-01, 2.768e-01, 7.615e-02,\n",
       "              nan],\n",
       "       [1.354e+01, 1.436e+01, 8.746e+01, 5.663e+02, 9.779e-02, 8.129e-02,\n",
       "        6.664e-02, 4.781e-02, 1.885e-01, 5.766e-02, 2.699e-01, 7.886e-01,\n",
       "        2.058e+00, 2.356e+01, 8.462e-03, 1.460e-02, 2.387e-02, 1.315e-02,\n",
       "        1.980e-02, 2.300e-03, 1.511e+01, 1.926e+01, 9.970e+01, 7.112e+02,\n",
       "        1.440e-01, 1.773e-01, 2.390e-01, 1.288e-01, 2.977e-01, 7.259e-02,\n",
       "              nan],\n",
       "       [1.308e+01, 1.571e+01, 8.563e+01, 5.200e+02, 1.075e-01, 1.270e-01,\n",
       "        4.568e-02, 3.110e-02, 1.967e-01, 6.811e-02, 1.852e-01, 7.477e-01,\n",
       "        1.383e+00, 1.467e+01, 4.097e-03, 1.898e-02, 1.698e-02, 6.490e-03,\n",
       "        1.678e-02, 2.425e-03, 1.450e+01, 2.049e+01, 9.609e+01, 6.305e+02,\n",
       "        1.312e-01, 2.776e-01, 1.890e-01, 7.283e-02, 3.184e-01, 8.183e-02,\n",
       "              nan],\n",
       "       [9.504e+00, 1.244e+01, 6.034e+01, 2.739e+02, 1.024e-01, 6.492e-02,\n",
       "        2.956e-02, 2.076e-02, 1.815e-01, 6.905e-02, 2.773e-01, 9.768e-01,\n",
       "        1.909e+00, 1.570e+01, 9.606e-03, 1.432e-02, 1.985e-02, 1.421e-02,\n",
       "        2.027e-02, 2.968e-03, 1.023e+01, 1.566e+01, 6.513e+01, 3.149e+02,\n",
       "        1.324e-01, 1.148e-01, 8.867e-02, 6.227e-02, 2.450e-01, 7.773e-02,\n",
       "              nan],\n",
       "       [1.534e+01, 1.426e+01, 1.025e+02, 7.044e+02, 1.073e-01, 2.135e-01,\n",
       "        2.077e-01, 9.756e-02, 2.521e-01, 7.032e-02, 4.388e-01, 7.096e-01,\n",
       "        3.384e+00, 4.491e+01, 6.789e-03, 5.328e-02, 6.446e-02, 2.252e-02,\n",
       "        3.672e-02, 4.394e-03, 1.807e+01, 1.908e+01, 1.251e+02, 9.809e+02,\n",
       "        1.390e-01, 5.954e-01, 6.305e-01, 2.393e-01, 4.667e-01, 9.946e-02,\n",
       "              nan],\n",
       "       [2.116e+01, 2.304e+01, 1.372e+02, 1.404e+03, 9.428e-02, 1.022e-01,\n",
       "        1.097e-01, 8.632e-02, 1.769e-01, 5.278e-02, 6.917e-01, 1.127e+00,\n",
       "        4.303e+00, 9.399e+01, 4.728e-03, 1.259e-02, 1.715e-02, 1.038e-02,\n",
       "        1.083e-02, 1.987e-03, 2.917e+01, 3.559e+01, 1.880e+02, 2.615e+03,\n",
       "        1.401e-01, 2.600e-01, 3.155e-01, 2.009e-01, 2.822e-01, 7.526e-02,\n",
       "              nan],\n",
       "       [1.665e+01, 2.138e+01, 1.100e+02, 9.046e+02, 1.121e-01, 1.457e-01,\n",
       "        1.525e-01, 9.170e-02, 1.995e-01, 6.330e-02, 8.068e-01, 9.017e-01,\n",
       "        5.455e+00, 1.026e+02, 6.048e-03, 1.882e-02, 2.741e-02, 1.130e-02,\n",
       "        1.468e-02, 2.801e-03, 2.646e+01, 3.156e+01, 1.770e+02, 2.215e+03,\n",
       "        1.805e-01, 3.578e-01, 4.695e-01, 2.095e-01, 3.613e-01, 9.564e-02,\n",
       "              nan],\n",
       "       [1.714e+01, 1.640e+01, 1.160e+02, 9.127e+02, 1.186e-01, 2.276e-01,\n",
       "        2.229e-01, 1.401e-01, 3.040e-01, 7.413e-02, 1.046e+00, 9.760e-01,\n",
       "        7.276e+00, 1.114e+02, 8.029e-03, 3.799e-02, 3.732e-02, 2.397e-02,\n",
       "        2.308e-02, 7.444e-03, 2.225e+01, 2.140e+01, 1.524e+02, 1.461e+03,\n",
       "        1.545e-01, 3.949e-01, 3.853e-01, 2.550e-01, 4.066e-01, 1.059e-01,\n",
       "              nan],\n",
       "       [1.458e+01, 2.153e+01, 9.741e+01, 6.448e+02, 1.054e-01, 1.868e-01,\n",
       "        1.425e-01, 8.783e-02, 2.252e-01, 6.924e-02, 2.545e-01, 9.832e-01,\n",
       "        2.110e+00, 2.105e+01, 4.452e-03, 3.055e-02, 2.681e-02, 1.352e-02,\n",
       "        1.454e-02, 3.711e-03, 1.762e+01, 3.321e+01, 1.224e+02, 8.969e+02,\n",
       "        1.525e-01, 6.643e-01, 5.539e-01, 2.701e-01, 4.264e-01, 1.275e-01,\n",
       "              nan],\n",
       "       [1.861e+01, 2.025e+01, 1.221e+02, 1.094e+03, 9.440e-02, 1.066e-01,\n",
       "        1.490e-01, 7.731e-02, 1.697e-01, 5.699e-02, 8.529e-01, 1.849e+00,\n",
       "        5.632e+00, 9.354e+01, 1.075e-02, 2.722e-02, 5.081e-02, 1.911e-02,\n",
       "        2.293e-02, 4.217e-03, 2.131e+01, 2.726e+01, 1.399e+02, 1.403e+03,\n",
       "        1.338e-01, 2.117e-01, 3.446e-01, 1.490e-01, 2.341e-01, 7.421e-02,\n",
       "              nan],\n",
       "       [1.530e+01, 2.527e+01, 1.024e+02, 7.324e+02, 1.082e-01, 1.697e-01,\n",
       "        1.683e-01, 8.751e-02, 1.926e-01, 6.540e-02, 4.390e-01, 1.012e+00,\n",
       "        3.498e+00, 4.350e+01, 5.233e-03, 3.057e-02, 3.576e-02, 1.083e-02,\n",
       "        1.768e-02, 2.967e-03, 2.027e+01, 3.671e+01, 1.493e+02, 1.269e+03,\n",
       "        1.641e-01, 6.110e-01, 6.335e-01, 2.024e-01, 4.027e-01, 9.876e-02,\n",
       "              nan],\n",
       "       [1.757e+01, 1.505e+01, 1.150e+02, 9.551e+02, 9.847e-02, 1.157e-01,\n",
       "        9.875e-02, 7.953e-02, 1.739e-01, 6.149e-02, 6.003e-01, 8.225e-01,\n",
       "        4.655e+00, 6.110e+01, 5.627e-03, 3.033e-02, 3.407e-02, 1.354e-02,\n",
       "        1.925e-02, 3.742e-03, 2.001e+01, 1.952e+01, 1.349e+02, 1.227e+03,\n",
       "        1.255e-01, 2.812e-01, 2.489e-01, 1.456e-01, 2.756e-01, 7.919e-02,\n",
       "              nan]])"
      ]
     },
     "execution_count": 35,
     "metadata": {},
     "output_type": "execute_result"
    }
   ],
   "source": [
    "X = df[['radius_mean', 'texture_mean', 'perimeter_mean','area_mean', 'smoothness_mean', 'compactness_mean', 'concavity_mean', 'concave points_mean', 'symmetry_mean', 'fractal_dimension_mean','radius_se', 'texture_se', 'perimeter_se', 'area_se', 'smoothness_se','compactness_se', 'concavity_se', 'concave points_se', 'symmetry_se','fractal_dimension_se', 'radius_worst', 'texture_worst', 'perimeter_worst', 'area_worst', 'smoothness_worst', 'compactness_worst', 'concavity_worst', 'concave points_worst', 'symmetry_worst', 'fractal_dimension_worst', 'Unnamed: 32']] .values  #.astype(float)\n",
    "X[0:30]"
   ]
  },
  {
   "cell_type": "code",
   "execution_count": 36,
   "id": "622f2378-d9ef-479c-a062-2080deb5edc0",
   "metadata": {},
   "outputs": [
    {
     "data": {
      "text/plain": [
       "array([1, 1, 1, 1, 1, 1, 1, 1, 1, 1, 1, 1, 1, 1, 1, 1, 1, 1, 1, 0, 0, 0,\n",
       "       1, 1, 1, 1, 1, 1, 1, 1], dtype=int64)"
      ]
     },
     "execution_count": 36,
     "metadata": {},
     "output_type": "execute_result"
    }
   ],
   "source": [
    "y = df['diagnosis'].values\n",
    "y[0:30]"
   ]
  },
  {
   "cell_type": "code",
   "execution_count": 37,
   "id": "52996d6d-57b4-47e9-baf6-261999aae071",
   "metadata": {},
   "outputs": [
    {
     "name": "stderr",
     "output_type": "stream",
     "text": [
      "C:\\Users\\Prathamesh\\AppData\\Local\\Programs\\Python\\Python39\\lib\\site-packages\\sklearn\\utils\\extmath.py:1051: RuntimeWarning: invalid value encountered in divide\n",
      "  updated_mean = (last_sum + new_sum) / updated_sample_count\n",
      "C:\\Users\\Prathamesh\\AppData\\Local\\Programs\\Python\\Python39\\lib\\site-packages\\sklearn\\utils\\extmath.py:1056: RuntimeWarning: invalid value encountered in divide\n",
      "  T = new_sum / new_sample_count\n",
      "C:\\Users\\Prathamesh\\AppData\\Local\\Programs\\Python\\Python39\\lib\\site-packages\\sklearn\\utils\\extmath.py:1076: RuntimeWarning: invalid value encountered in divide\n",
      "  new_unnormalized_variance -= correction**2 / new_sample_count\n"
     ]
    },
    {
     "data": {
      "text/plain": [
       "array([[ 1.09706398e+00, -2.07333501e+00,  1.26993369e+00,\n",
       "         9.84374905e-01,  1.56846633e+00,  3.28351467e+00,\n",
       "         2.65287398e+00,  2.53247522e+00,  2.21751501e+00,\n",
       "         2.25574689e+00,  2.48973393e+00, -5.65265059e-01,\n",
       "         2.83303087e+00,  2.48757756e+00, -2.14001647e-01,\n",
       "         1.31686157e+00,  7.24026158e-01,  6.60819941e-01,\n",
       "         1.14875667e+00,  9.07083081e-01,  1.88668963e+00,\n",
       "        -1.35929347e+00,  2.30360062e+00,  2.00123749e+00,\n",
       "         1.30768627e+00,  2.61666502e+00,  2.10952635e+00,\n",
       "         2.29607613e+00,  2.75062224e+00,  1.93701461e+00,\n",
       "                    nan],\n",
       "       [ 1.82982061e+00, -3.53632408e-01,  1.68595471e+00,\n",
       "         1.90870825e+00, -8.26962447e-01, -4.87071673e-01,\n",
       "        -2.38458552e-02,  5.48144156e-01,  1.39236330e-03,\n",
       "        -8.68652457e-01,  4.99254601e-01, -8.76243603e-01,\n",
       "         2.63326966e-01,  7.42401948e-01, -6.05350847e-01,\n",
       "        -6.92926270e-01, -4.40780058e-01,  2.60162067e-01,\n",
       "        -8.05450380e-01, -9.94437403e-02,  1.80592744e+00,\n",
       "        -3.69203222e-01,  1.53512599e+00,  1.89048899e+00,\n",
       "        -3.75611957e-01, -4.30444219e-01, -1.46748968e-01,\n",
       "         1.08708430e+00, -2.43889668e-01,  2.81189987e-01,\n",
       "                    nan],\n",
       "       [ 1.57988811e+00,  4.56186952e-01,  1.56650313e+00,\n",
       "         1.55888363e+00,  9.42210440e-01,  1.05292554e+00,\n",
       "         1.36347845e+00,  2.03723076e+00,  9.39684817e-01,\n",
       "        -3.98007910e-01,  1.22867595e+00, -7.80083377e-01,\n",
       "         8.50928301e-01,  1.18133606e+00, -2.97005012e-01,\n",
       "         8.14973504e-01,  2.13076435e-01,  1.42482747e+00,\n",
       "         2.37035535e-01,  2.93559404e-01,  1.51187025e+00,\n",
       "        -2.39743838e-02,  1.34747521e+00,  1.45628455e+00,\n",
       "         5.27407405e-01,  1.08293217e+00,  8.54973944e-01,\n",
       "         1.95500035e+00,  1.15225500e+00,  2.01391209e-01,\n",
       "                    nan],\n",
       "       [-7.68909287e-01,  2.53732112e-01, -5.92687167e-01,\n",
       "        -7.64463792e-01,  3.28355348e+00,  3.40290899e+00,\n",
       "         1.91589718e+00,  1.45170736e+00,  2.86738293e+00,\n",
       "         4.91091929e+00,  3.26373441e-01, -1.10409044e-01,\n",
       "         2.86593405e-01, -2.88378148e-01,  6.89701660e-01,\n",
       "         2.74428041e+00,  8.19518384e-01,  1.11500701e+00,\n",
       "         4.73268037e+00,  2.04751088e+00, -2.81464464e-01,\n",
       "         1.33984094e-01, -2.49939304e-01, -5.50021228e-01,\n",
       "         3.39427470e+00,  3.89339743e+00,  1.98958826e+00,\n",
       "         2.17578601e+00,  6.04604135e+00,  4.93501034e+00,\n",
       "                    nan],\n",
       "       [ 1.75029663e+00, -1.15181643e+00,  1.77657315e+00,\n",
       "         1.82622928e+00,  2.80371830e-01,  5.39340452e-01,\n",
       "         1.37101143e+00,  1.42849277e+00, -9.56046689e-03,\n",
       "        -5.62449981e-01,  1.27054278e+00, -7.90243702e-01,\n",
       "         1.27318941e+00,  1.19035676e+00,  1.48306716e+00,\n",
       "        -4.85198799e-02,  8.28470780e-01,  1.14420474e+00,\n",
       "        -3.61092272e-01,  4.99328134e-01,  1.29857524e+00,\n",
       "        -1.46677038e+00,  1.33853946e+00,  1.22072425e+00,\n",
       "         2.20556166e-01, -3.13394511e-01,  6.13178758e-01,\n",
       "         7.29259257e-01, -8.68352984e-01, -3.97099619e-01,\n",
       "                    nan],\n",
       "       [-4.76374665e-01, -8.35335303e-01, -3.87148067e-01,\n",
       "        -5.05650454e-01,  2.23742148e+00,  1.24433549e+00,\n",
       "         8.66301596e-01,  8.24655646e-01,  1.00540180e+00,\n",
       "         1.89000504e+00, -2.55070294e-01, -5.92661652e-01,\n",
       "        -3.21304185e-01, -2.89258217e-01,  1.56346702e-01,\n",
       "         4.45543649e-01,  1.60025198e-01, -6.91235537e-02,\n",
       "         1.34118807e-01,  4.86845840e-01, -1.65498247e-01,\n",
       "        -3.13836333e-01, -1.15009456e-01, -2.44320208e-01,\n",
       "         2.04851283e+00,  1.72161644e+00,  1.26324320e+00,\n",
       "         9.05887786e-01,  1.75406939e+00,  2.24180161e+00,\n",
       "                    nan],\n",
       "       [ 1.17090767e+00,  1.60649427e-01,  1.13812505e+00,\n",
       "         1.09529491e+00, -1.23136226e-01,  8.82952423e-02,\n",
       "         3.00072399e-01,  6.46935108e-01, -6.43246179e-02,\n",
       "        -7.62332153e-01,  1.49883071e-01, -8.04939888e-01,\n",
       "         1.55410293e-01,  2.98627465e-01, -9.09029826e-01,\n",
       "        -6.51568010e-01, -3.10141387e-01, -2.28089026e-01,\n",
       "        -8.29666081e-01, -6.11217806e-01,  1.36898330e+00,\n",
       "         3.22882892e-01,  1.36832530e+00,  1.27521954e+00,\n",
       "         5.18640227e-01,  2.12149800e-02,  5.09552250e-01,\n",
       "         1.19671580e+00,  2.62475664e-01, -1.47304787e-02,\n",
       "                    nan],\n",
       "       [-1.18516778e-01,  3.58450132e-01, -7.28668396e-02,\n",
       "        -2.18964911e-01,  1.60404905e+00,  1.14010235e+00,\n",
       "         6.10257495e-02,  2.81950258e-01,  1.40335463e+00,\n",
       "         1.66035318e+00,  6.43623001e-01,  2.90560957e-01,\n",
       "         4.90050986e-01,  2.33722421e-01,  5.88030871e-01,\n",
       "         2.68932704e-01, -2.32553954e-01,  4.35348506e-01,\n",
       "        -6.88004232e-01,  6.11668783e-01,  1.63762976e-01,\n",
       "         4.01047912e-01,  9.94485804e-02,  2.88594274e-02,\n",
       "         1.44796112e+00,  7.24785507e-01, -2.10538519e-02,\n",
       "         6.24195735e-01,  4.77640485e-01,  1.72643451e+00,\n",
       "                    nan],\n",
       "       [-3.20166857e-01,  5.88829778e-01, -1.84080380e-01,\n",
       "        -3.84207273e-01,  2.20183876e+00,  1.68400981e+00,\n",
       "         1.21909628e+00,  1.15069158e+00,  1.96559991e+00,\n",
       "         1.57246173e+00, -3.56850016e-01, -3.89818004e-01,\n",
       "        -2.27743400e-01, -3.52403123e-01, -4.36677342e-01,\n",
       "         5.33290226e-01,  1.20568341e-01,  7.52430487e-02,\n",
       "         1.07481537e-01, -1.73631991e-02, -1.61356597e-01,\n",
       "         8.22813332e-01, -3.16091086e-02, -2.48363407e-01,\n",
       "         1.66275699e+00,  1.81830968e+00,  1.28003453e+00,\n",
       "         1.39161624e+00,  2.38985717e+00,  1.28864955e+00,\n",
       "                    nan],\n",
       "       [-4.73534523e-01,  1.10543868e+00, -3.29481787e-01,\n",
       "        -5.09063378e-01,  1.58269942e+00,  2.56335845e+00,\n",
       "         1.73887209e+00,  9.41760326e-01,  7.97298024e-01,\n",
       "         2.78309559e+00, -3.88250143e-01,  6.93345302e-01,\n",
       "        -4.09419634e-01, -3.60763773e-01,  3.60084898e-02,\n",
       "         2.60958662e+00,  1.50984760e+00,  4.09394960e-01,\n",
       "        -3.21136366e-01,  2.37734605e+00, -2.44189609e-01,\n",
       "         2.44310906e+00, -2.86278027e-01, -2.97409172e-01,\n",
       "         2.32029536e+00,  5.11287727e+00,  3.99543285e+00,\n",
       "         1.62001520e+00,  2.37044380e+00,  6.84685604e+00,\n",
       "                    nan],\n",
       "       [ 5.37556015e-01,  9.19273310e-01,  4.42010663e-01,\n",
       "         4.06453254e-01, -1.01768583e+00, -7.13541852e-01,\n",
       "        -7.00684347e-01, -4.04685551e-01, -1.03547556e+00,\n",
       "        -8.26124336e-01, -9.26558426e-02, -5.41643832e-02,\n",
       "        -1.98041563e-01,  3.80455574e-03, -1.00403368e+00,\n",
       "        -9.05921304e-01, -6.92441862e-01, -6.82113880e-01,\n",
       "        -7.19484643e-01, -2.84786898e-01,  6.04848764e-01,\n",
       "         1.33577127e+00,  4.92621648e-01,  4.73611343e-01,\n",
       "        -6.25476537e-01, -6.30828229e-01, -6.05871970e-01,\n",
       "        -2.26209729e-01,  7.64308935e-02,  3.18188080e-02,\n",
       "                    nan],\n",
       "       [ 4.69392608e-01, -3.25707603e-01,  4.79081844e-01,\n",
       "         3.58672330e-01,  5.26424157e-02,  4.71115126e-01,\n",
       "         1.34848980e-01,  4.42130889e-01,  1.10920665e-01,\n",
       "        -2.80346774e-01,  3.63187383e-01, -4.20843285e-01,\n",
       "         3.45502047e-01,  3.04127892e-01, -4.23343468e-01,\n",
       "         8.45712751e-01, -1.32088174e-01,  1.66080461e-01,\n",
       "        -5.59744432e-02,  1.32046081e-01,  8.59560276e-01,\n",
       "         2.61002251e-01,  8.70901796e-01,  7.35540337e-01,\n",
       "         3.16995127e-01,  1.95062674e+00,  5.96387426e-01,\n",
       "         1.01095131e+00,  1.44183773e+00,  1.15565159e+00,\n",
       "                    nan],\n",
       "       [ 1.43220073e+00,  1.28229578e+00,  1.66535961e+00,\n",
       "         1.33135542e+00,  7.39920483e-02,  2.68085763e+00,\n",
       "         1.47772869e+00,  1.62194764e+00,  2.13719425e+00,\n",
       "         2.15509700e+00,  1.98624913e+00,  4.26578844e+00,\n",
       "         4.06120181e+00,  1.66911396e+00, -1.30071237e+00,\n",
       "         3.21319364e+00,  1.89015865e+00,  4.72092787e+00,\n",
       "         2.94192930e+00,  3.42131975e+00,  9.71384843e-01,\n",
       "         6.94166736e-01,  1.32364654e+00,  7.93551457e-01,\n",
       "        -1.25671337e+00,  8.65372384e-01,  4.39988159e-01,\n",
       "         9.45476939e-01,  4.45284873e-01,  1.01711204e+00,\n",
       "                    nan],\n",
       "       [ 4.89273602e-01,  1.08449508e+00,  4.83200864e-01,\n",
       "         3.63507304e-01, -8.78913219e-01, -7.84777765e-02,\n",
       "         1.32840184e-01,  1.21769628e-01,  1.29175382e-01,\n",
       "        -1.33504419e+00, -6.75664414e-03, -2.51927868e-01,\n",
       "         1.82868136e-02, -8.26621631e-02,  9.09377233e-01,\n",
       "         3.23145557e-01,  6.17260544e-01,  1.31776909e+00,\n",
       "         1.12211940e+00, -2.99916952e-01,  1.18204819e-01,\n",
       "         3.22882892e-01,  1.41148754e-01, -7.17778313e-03,\n",
       "        -8.44655994e-01, -3.93548115e-01, -1.91845689e-01,\n",
       "        -4.12065711e-02, -1.48440611e-01, -1.16793364e+00,\n",
       "                    nan],\n",
       "       [-1.12836494e-01,  7.72668081e-01,  6.71798412e-02,\n",
       "        -2.17827270e-01,  1.19128949e+00,  2.36815822e+00,\n",
       "         1.55682501e+00,  8.08147498e-01,  9.39684817e-01,\n",
       "         1.98781972e+00, -6.96837600e-01, -8.68225734e-02,\n",
       "        -3.98528961e-01, -4.64831860e-01, -2.04001241e-01,\n",
       "         1.89364162e+00,  7.66467147e-01,  7.27325904e-01,\n",
       "        -1.12881340e-01,  1.62576063e+00, -2.56614560e-01,\n",
       "         1.03125338e+00,  4.58340713e-02, -3.21492576e-01,\n",
       "         1.43481036e+00,  3.29669838e+00,  2.02508993e+00,\n",
       "         1.61696988e+00,  1.12475273e+00,  3.27807740e+00,\n",
       "                    nan],\n",
       "       [ 1.17215005e-01,  1.91991217e+00,  1.96105168e-01,\n",
       "         1.11229904e-02,  1.24822184e+00,  1.04534495e+00,\n",
       "         9.42886920e-01,  6.37649275e-01,  1.79400557e+00,\n",
       "         1.13016926e+00, -1.26943338e-01, -3.33573343e-01,\n",
       "         6.40607890e-03, -1.71329053e-01, -4.78012351e-01,\n",
       "         9.45755027e-01,  5.14473773e-01, -1.45362096e-01,\n",
       "        -2.38802984e-01,  6.32094355e-01,  2.46595988e-01,\n",
       "         1.86501360e+00,  5.01557399e-01,  1.10074995e-01,\n",
       "         1.55316726e+00,  2.56640999e+00,  2.06490938e+00,\n",
       "         8.61730654e-01,  2.13101227e+00,  2.77933504e+00,\n",
       "                    nan],\n",
       "       [ 1.56976992e-01,  1.95555434e-01,  1.14136669e-01,\n",
       "         8.42164276e-02,  1.64372160e-01, -6.12909496e-01,\n",
       "        -1.86432731e-01,  9.46859466e-02, -8.23720845e-01,\n",
       "        -5.07163423e-01,  2.43722531e-01,  4.19958433e-02,\n",
       "         1.62835752e-01,  1.11392916e-01, -4.41010851e-01,\n",
       "        -7.74524997e-01, -3.95023366e-01, -1.14542260e-01,\n",
       "        -7.80023895e-01, -6.46773432e-01,  5.79998861e-01,\n",
       "         8.47239900e-01,  4.80707312e-01,  4.52516391e-01,\n",
       "         6.15079188e-01, -4.27263520e-01,  9.21677033e-02,\n",
       "         7.04896701e-01,  2.07471123e-01, -9.89625213e-02,\n",
       "                    nan],\n",
       "       [ 5.68797577e-01,  3.23544126e-01,  6.64437745e-01,\n",
       "         4.09297356e-01,  1.46883471e+00,  1.85457312e+00,\n",
       "         1.04709318e+00,  1.38980180e+00,  1.28652444e+00,\n",
       "         1.52568080e+00,  5.92011298e-01, -2.60999587e-01,\n",
       "         4.89060924e-01,  3.04567927e-01, -4.99317257e-03,\n",
       "        -2.61640642e-02, -4.54793148e-04,  1.90411911e-01,\n",
       "        -4.42214870e-01,  1.31289578e-01,  9.71384843e-01,\n",
       "         9.44946175e-01,  8.79837547e-01,  7.63666941e-01,\n",
       "         2.03974566e+00,  1.07529849e+00,  9.89304603e-01,\n",
       "         1.41141082e+00,  1.30270860e+00,  1.67656027e+00,\n",
       "                    nan],\n",
       "       [ 1.61396982e+00,  6.65622993e-01,  1.56650313e+00,\n",
       "         1.72099748e+00,  1.38752600e-01, -3.10990780e-02,\n",
       "         7.42007382e-01,  1.18809286e+00, -8.38324618e-01,\n",
       "        -1.25424076e+00,  1.27415199e+00, -3.62602846e-01,\n",
       "         1.48456748e+00,  1.58550746e+00, -1.82333696e-01,\n",
       "        -3.65972464e-01,  6.68539634e-02,  5.53761562e-01,\n",
       "        -8.45406286e-01, -6.80059550e-01,  2.28842973e+00,\n",
       "         8.47239900e-01,  2.36912947e+00,  2.66748641e+00,\n",
       "         8.25491466e-01,  3.86359177e-01,  1.27139899e+00,\n",
       "         1.89104864e+00, -2.14769617e-01, -4.32011584e-01,\n",
       "                    nan],\n",
       "       [-1.66799191e-01, -1.14716230e+00, -1.85727988e-01,\n",
       "        -2.51956501e-01,  1.01746571e-01, -4.36850252e-01,\n",
       "        -2.78209570e-01, -2.86092890e-02,  2.67911231e-01,\n",
       "        -7.28309656e-01, -4.88225261e-01, -7.76998992e-01,\n",
       "        -4.00014052e-01, -3.69124423e-01,  4.73692902e-01,\n",
       "        -6.07974170e-01, -2.66042547e-01,  2.19609651e-01,\n",
       "        -8.98764242e-02, -5.65449394e-01, -2.40047958e-01,\n",
       "        -1.04500496e+00, -2.25217058e-01, -2.97760754e-01,\n",
       "         5.09873049e-01, -4.89605212e-01, -1.59222529e-01,\n",
       "         2.16122925e-01,  1.23346531e-01, -6.29291894e-01,\n",
       "                    nan],\n",
       "       [-2.97445722e-01, -8.33008236e-01, -2.61106055e-01,\n",
       "        -3.83638452e-01,  7.92763012e-01,  4.29421872e-01,\n",
       "        -5.41361764e-01, -4.59626734e-01,  5.67288590e-01,\n",
       "         7.53086584e-01, -7.93925350e-01, -8.51205657e-01,\n",
       "        -7.34159715e-01, -5.64719621e-01, -9.81366092e-01,\n",
       "        -3.63177987e-01, -4.94494435e-01, -8.60706722e-01,\n",
       "        -4.55533505e-01, -5.18167976e-01, -3.66368301e-01,\n",
       "        -8.44707093e-01, -3.32743935e-01, -4.39624310e-01,\n",
       "        -5.12263607e-02,  1.48442923e-01, -3.99098706e-01,\n",
       "        -6.36109731e-01,  4.58227118e-01, -1.17249741e-01,\n",
       "                    nan],\n",
       "       [-1.31308049e+00, -1.59395919e+00, -1.30280622e+00,\n",
       "        -1.08357211e+00,  4.29819258e-01, -7.47085970e-01,\n",
       "        -7.43747898e-01, -7.26336511e-01,  1.23451935e-02,\n",
       "         8.86341366e-01, -4.61517107e-01, -4.35539470e-01,\n",
       "        -4.73773613e-01, -5.42057860e-01,  8.55041697e-01,\n",
       "        -6.23623241e-01, -3.99333779e-01,  3.91551897e-01,\n",
       "        -3.29695276e-02, -3.12777497e-01, -1.25061070e+00,\n",
       "        -1.63124261e+00, -1.25491349e+00, -9.94421562e-01,\n",
       "         1.37670893e-03, -8.87192535e-01, -8.80434241e-01,\n",
       "        -7.96902599e-01, -7.29223851e-01, -3.44454593e-01,\n",
       "                    nan],\n",
       "       [ 3.44426362e-01, -1.17043297e+00,  4.33772623e-01,\n",
       "         1.40814070e-01,  7.78529924e-01,  2.06872484e+00,\n",
       "         1.49279465e+00,  1.25464133e+00,  2.58991123e+00,\n",
       "         1.06637708e+00,  1.21370312e-01, -9.20332160e-01,\n",
       "         2.56396537e-01,  1.00612078e-01, -8.39963757e-02,\n",
       "         1.55383322e+00,  1.07980101e+00,  1.73951422e+00,\n",
       "         1.95877186e+00,  2.26608917e-01,  3.72916331e-01,\n",
       "        -1.07431684e+00,  5.31343238e-01,  1.76348304e-01,\n",
       "         2.90693592e-01,  2.17009494e+00,  1.71900793e+00,\n",
       "         1.89866194e+00,  2.85739576e+00,  8.59731121e-01,\n",
       "                    nan],\n",
       "       [ 1.99738898e+00,  8.72731967e-01,  1.86307257e+00,\n",
       "         2.13054826e+00, -1.48044131e-01, -4.05748177e-02,\n",
       "         2.62407486e-01,  9.64716970e-01, -1.55598203e-01,\n",
       "        -1.42010044e+00,  1.03413953e+00, -1.63025017e-01,\n",
       "         7.11329669e-01,  1.18045599e+00, -7.71024231e-01,\n",
       "        -7.20312144e-01, -4.88857741e-01, -2.29711123e-01,\n",
       "        -1.17595060e+00, -6.83842064e-01,  2.67153241e+00,\n",
       "         1.61423416e+00,  2.40487247e+00,  3.04895347e+00,\n",
       "         3.38913072e-01,  3.64823332e-02,  2.07788020e-01,\n",
       "         1.31396060e+00, -1.27409464e-01, -4.81331662e-01,\n",
       "                    nan],\n",
       "       [ 7.16484959e-01,  4.86438824e-01,  7.42699125e-01,\n",
       "         7.10203413e-01,  1.12012404e+00,  7.83814537e-01,\n",
       "         7.99760249e-01,  1.10348860e+00,  6.69515005e-01,\n",
       "         7.12190327e-02,  1.44955960e+00, -5.71796697e-01,\n",
       "         1.28160493e+00,  1.36989071e+00, -3.31006391e-01,\n",
       "        -3.72120313e-01, -1.48666686e-01, -8.04782302e-02,\n",
       "        -7.09798362e-01, -3.75945471e-01,  2.11033876e+00,\n",
       "         9.57973679e-01,  2.07722825e+00,  2.34578838e+00,\n",
       "         2.10988308e+00,  6.58626976e-01,  9.46606644e-01,\n",
       "         1.44490933e+00,  1.15225500e+00,  6.48042698e-01,\n",
       "                    nan],\n",
       "       [ 8.55651915e-01, -6.72440605e-01,  9.89840327e-01,\n",
       "         7.33240644e-01,  1.58269942e+00,  2.33594070e+00,\n",
       "         1.68363021e+00,  2.35191734e+00,  4.48475086e+00,\n",
       "         1.60648423e+00,  2.31288264e+00, -4.36990946e-01,\n",
       "         2.18305567e+00,  1.56350575e+00,  3.29353717e-01,\n",
       "         6.99282158e-01,  1.79919412e-01,  1.97471823e+00,\n",
       "         3.07261067e-01,  1.38027551e+00,  1.23852131e+00,\n",
       "        -6.96519243e-01,  1.34449663e+00,  1.02032220e+00,\n",
       "         9.70149908e-01,  8.94634811e-01,  5.42655163e-01,\n",
       "         2.13771951e+00,  1.88510962e+00,  1.21660899e+00,\n",
       "                    nan],\n",
       "       [ 1.28575573e-01,  5.21344831e-01,  2.24114504e-01,\n",
       "        -2.86944462e-02,  6.43315584e-01,  1.56272034e+00,\n",
       "         6.74210538e-01,  1.00366588e+00,  1.60780746e+00,\n",
       "         9.13275843e-01, -5.43807095e-01, -4.23927669e-01,\n",
       "        -3.74272461e-01, -4.24348714e-01, -8.63027961e-01,\n",
       "         2.83463984e-01, -1.68560899e-01,  2.79627227e-01,\n",
       "        -7.26749353e-01, -3.17367501e-02,  2.79729192e-01,\n",
       "         1.22666593e+00,  4.50921474e-01,  2.86836362e-02,\n",
       "         8.82478125e-01,  2.60839521e+00,  1.35151763e+00,\n",
       "         2.36764114e+00,  2.20543018e+00,  2.41359064e+00,\n",
       "                    nan],\n",
       "       [ 1.27315278e+00,  2.23480239e-01,  1.24110055e+00,\n",
       "         1.24887645e+00, -1.39504278e-01,  4.28116917e-02,\n",
       "         7.55817850e-01,  7.32313190e-01, -4.18466127e-01,\n",
       "        -8.23289128e-01,  1.61594418e+00,  1.14693128e+00,\n",
       "         1.36922535e+00,  1.17055522e+00,  1.23639049e+00,\n",
       "         9.73518180e-02,  6.27207651e-01,  1.18637926e+00,\n",
       "         2.89099292e-01,  1.59658429e-01,  1.04386373e+00,\n",
       "         2.57745375e-01,  9.72173646e-01,  9.18363259e-01,\n",
       "         6.27469568e-02, -2.70773150e-01,  3.47395955e-01,\n",
       "         5.23700192e-01, -9.05561938e-01, -5.39518270e-01,\n",
       "                    nan],\n",
       "       [ 3.33065794e-01,  1.39166794e+00,  4.29653603e-01,\n",
       "         2.20448943e-01,  8.42578821e-01,  1.23865004e+00,\n",
       "         9.98128793e-01,  9.95411809e-01,  4.17599911e-01,\n",
       "         3.68915885e-01,  1.22092154e-01, -3.71674565e-01,\n",
       "         3.12830027e-01,  6.95896676e-02, -6.02684072e-01,\n",
       "         2.84581775e-01,  1.28194456e-01, -1.56716773e-01,\n",
       "        -3.46562852e-01, -3.13155749e-01,  8.28497897e-01,\n",
       "         1.79661920e+00,  1.25216053e+00,  6.82802956e-01,\n",
       "         1.39097446e+00,  2.26933274e+00,  1.73340050e+00,\n",
       "         1.33680049e+00,  1.82201617e+00,  8.20940049e-01,\n",
       "                    nan],\n",
       "       [ 9.77778019e-01, -9.86594667e-01,  9.48650126e-01,\n",
       "         8.53830595e-01,  1.50139071e-01,  2.15270154e-01,\n",
       "         1.24930552e-01,  7.89575830e-01, -2.65126505e-01,\n",
       "        -1.85367302e-01,  7.04257730e-01, -7.15492734e-01,\n",
       "         8.85580443e-01,  4.56819757e-01, -4.71345414e-01,\n",
       "         2.71168286e-01,  7.21590871e-02,  2.82871421e-01,\n",
       "        -1.56469601e-01, -2.00109585e-02,  7.74656439e-01,\n",
       "        -1.00266557e+00,  8.23244454e-01,  6.08970622e-01,\n",
       "        -3.01090941e-01,  1.71343953e-01, -1.11727047e-01,\n",
       "         4.71929761e-01, -2.34182984e-01, -2.63547499e-01,\n",
       "                    nan]])"
      ]
     },
     "execution_count": 37,
     "metadata": {},
     "output_type": "execute_result"
    }
   ],
   "source": [
    "X = preprocessing.StandardScaler().fit(X).transform(X.astype(float))\n",
    "X[0:30]"
   ]
  },
  {
   "cell_type": "code",
   "execution_count": 38,
   "id": "4673e178-c8ff-4ae3-85b1-d795eb6eed95",
   "metadata": {},
   "outputs": [
    {
     "name": "stdout",
     "output_type": "stream",
     "text": [
      "Train set: (421, 31) (421,)\n",
      "Test set: (148, 31) (148,)\n"
     ]
    }
   ],
   "source": [
    "from sklearn.model_selection import train_test_split\n",
    "X_train, X_test, y_train, y_test = train_test_split( X, y, test_size=0.26, random_state=4)\n",
    "print ('Train set:', X_train.shape,  y_train.shape)\n",
    "print ('Test set:', X_test.shape,  y_test.shape)"
   ]
  },
  {
   "cell_type": "code",
   "execution_count": 39,
   "id": "064736f0-5db0-47f5-944c-c17144a665e7",
   "metadata": {},
   "outputs": [],
   "source": [
    "from sklearn.neighbors import KNeighborsClassifier"
   ]
  },
  {
   "cell_type": "code",
   "execution_count": 40,
   "id": "6350b9d7-07f0-4b61-81fe-51e82f0b1569",
   "metadata": {},
   "outputs": [
    {
     "ename": "ValueError",
     "evalue": "Input X contains NaN.\nKNeighborsClassifier does not accept missing values encoded as NaN natively. For supervised learning, you might want to consider sklearn.ensemble.HistGradientBoostingClassifier and Regressor which accept missing values encoded as NaNs natively. Alternatively, it is possible to preprocess the data, for instance by using an imputer transformer in a pipeline or drop samples with missing values. See https://scikit-learn.org/stable/modules/impute.html You can find a list of all estimators that handle NaN values at the following page: https://scikit-learn.org/stable/modules/impute.html#estimators-that-handle-nan-values",
     "output_type": "error",
     "traceback": [
      "\u001b[1;31m---------------------------------------------------------------------------\u001b[0m",
      "\u001b[1;31mValueError\u001b[0m                                Traceback (most recent call last)",
      "Cell \u001b[1;32mIn[40], line 3\u001b[0m\n\u001b[0;32m      1\u001b[0m k \u001b[38;5;241m=\u001b[39m \u001b[38;5;241m4\u001b[39m\n\u001b[0;32m      2\u001b[0m \u001b[38;5;66;03m#Train Model and Predict  \u001b[39;00m\n\u001b[1;32m----> 3\u001b[0m neigh \u001b[38;5;241m=\u001b[39m \u001b[43mKNeighborsClassifier\u001b[49m\u001b[43m(\u001b[49m\u001b[43mn_neighbors\u001b[49m\u001b[43m \u001b[49m\u001b[38;5;241;43m=\u001b[39;49m\u001b[43m \u001b[49m\u001b[43mk\u001b[49m\u001b[43m)\u001b[49m\u001b[38;5;241;43m.\u001b[39;49m\u001b[43mfit\u001b[49m\u001b[43m(\u001b[49m\u001b[43mX_train\u001b[49m\u001b[43m,\u001b[49m\u001b[43my_train\u001b[49m\u001b[43m)\u001b[49m\n\u001b[0;32m      4\u001b[0m neigh\n",
      "File \u001b[1;32m~\\AppData\\Local\\Programs\\Python\\Python39\\lib\\site-packages\\sklearn\\base.py:1151\u001b[0m, in \u001b[0;36m_fit_context.<locals>.decorator.<locals>.wrapper\u001b[1;34m(estimator, *args, **kwargs)\u001b[0m\n\u001b[0;32m   1144\u001b[0m     estimator\u001b[38;5;241m.\u001b[39m_validate_params()\n\u001b[0;32m   1146\u001b[0m \u001b[38;5;28;01mwith\u001b[39;00m config_context(\n\u001b[0;32m   1147\u001b[0m     skip_parameter_validation\u001b[38;5;241m=\u001b[39m(\n\u001b[0;32m   1148\u001b[0m         prefer_skip_nested_validation \u001b[38;5;129;01mor\u001b[39;00m global_skip_validation\n\u001b[0;32m   1149\u001b[0m     )\n\u001b[0;32m   1150\u001b[0m ):\n\u001b[1;32m-> 1151\u001b[0m     \u001b[38;5;28;01mreturn\u001b[39;00m fit_method(estimator, \u001b[38;5;241m*\u001b[39margs, \u001b[38;5;241m*\u001b[39m\u001b[38;5;241m*\u001b[39mkwargs)\n",
      "File \u001b[1;32m~\\AppData\\Local\\Programs\\Python\\Python39\\lib\\site-packages\\sklearn\\neighbors\\_classification.py:228\u001b[0m, in \u001b[0;36mKNeighborsClassifier.fit\u001b[1;34m(self, X, y)\u001b[0m\n\u001b[0;32m    206\u001b[0m \u001b[38;5;129m@_fit_context\u001b[39m(\n\u001b[0;32m    207\u001b[0m     \u001b[38;5;66;03m# KNeighborsClassifier.metric is not validated yet\u001b[39;00m\n\u001b[0;32m    208\u001b[0m     prefer_skip_nested_validation\u001b[38;5;241m=\u001b[39m\u001b[38;5;28;01mFalse\u001b[39;00m\n\u001b[0;32m    209\u001b[0m )\n\u001b[0;32m    210\u001b[0m \u001b[38;5;28;01mdef\u001b[39;00m \u001b[38;5;21mfit\u001b[39m(\u001b[38;5;28mself\u001b[39m, X, y):\n\u001b[0;32m    211\u001b[0m \u001b[38;5;250m    \u001b[39m\u001b[38;5;124;03m\"\"\"Fit the k-nearest neighbors classifier from the training dataset.\u001b[39;00m\n\u001b[0;32m    212\u001b[0m \n\u001b[0;32m    213\u001b[0m \u001b[38;5;124;03m    Parameters\u001b[39;00m\n\u001b[1;32m   (...)\u001b[0m\n\u001b[0;32m    226\u001b[0m \u001b[38;5;124;03m        The fitted k-nearest neighbors classifier.\u001b[39;00m\n\u001b[0;32m    227\u001b[0m \u001b[38;5;124;03m    \"\"\"\u001b[39;00m\n\u001b[1;32m--> 228\u001b[0m     \u001b[38;5;28;01mreturn\u001b[39;00m \u001b[38;5;28;43mself\u001b[39;49m\u001b[38;5;241;43m.\u001b[39;49m\u001b[43m_fit\u001b[49m\u001b[43m(\u001b[49m\u001b[43mX\u001b[49m\u001b[43m,\u001b[49m\u001b[43m \u001b[49m\u001b[43my\u001b[49m\u001b[43m)\u001b[49m\n",
      "File \u001b[1;32m~\\AppData\\Local\\Programs\\Python\\Python39\\lib\\site-packages\\sklearn\\neighbors\\_base.py:456\u001b[0m, in \u001b[0;36mNeighborsBase._fit\u001b[1;34m(self, X, y)\u001b[0m\n\u001b[0;32m    454\u001b[0m \u001b[38;5;28;01mif\u001b[39;00m \u001b[38;5;28mself\u001b[39m\u001b[38;5;241m.\u001b[39m_get_tags()[\u001b[38;5;124m\"\u001b[39m\u001b[38;5;124mrequires_y\u001b[39m\u001b[38;5;124m\"\u001b[39m]:\n\u001b[0;32m    455\u001b[0m     \u001b[38;5;28;01mif\u001b[39;00m \u001b[38;5;129;01mnot\u001b[39;00m \u001b[38;5;28misinstance\u001b[39m(X, (KDTree, BallTree, NeighborsBase)):\n\u001b[1;32m--> 456\u001b[0m         X, y \u001b[38;5;241m=\u001b[39m \u001b[38;5;28;43mself\u001b[39;49m\u001b[38;5;241;43m.\u001b[39;49m\u001b[43m_validate_data\u001b[49m\u001b[43m(\u001b[49m\n\u001b[0;32m    457\u001b[0m \u001b[43m            \u001b[49m\u001b[43mX\u001b[49m\u001b[43m,\u001b[49m\u001b[43m \u001b[49m\u001b[43my\u001b[49m\u001b[43m,\u001b[49m\u001b[43m \u001b[49m\u001b[43maccept_sparse\u001b[49m\u001b[38;5;241;43m=\u001b[39;49m\u001b[38;5;124;43m\"\u001b[39;49m\u001b[38;5;124;43mcsr\u001b[39;49m\u001b[38;5;124;43m\"\u001b[39;49m\u001b[43m,\u001b[49m\u001b[43m \u001b[49m\u001b[43mmulti_output\u001b[49m\u001b[38;5;241;43m=\u001b[39;49m\u001b[38;5;28;43;01mTrue\u001b[39;49;00m\u001b[43m,\u001b[49m\u001b[43m \u001b[49m\u001b[43morder\u001b[49m\u001b[38;5;241;43m=\u001b[39;49m\u001b[38;5;124;43m\"\u001b[39;49m\u001b[38;5;124;43mC\u001b[39;49m\u001b[38;5;124;43m\"\u001b[39;49m\n\u001b[0;32m    458\u001b[0m \u001b[43m        \u001b[49m\u001b[43m)\u001b[49m\n\u001b[0;32m    460\u001b[0m     \u001b[38;5;28;01mif\u001b[39;00m is_classifier(\u001b[38;5;28mself\u001b[39m):\n\u001b[0;32m    461\u001b[0m         \u001b[38;5;66;03m# Classification targets require a specific format\u001b[39;00m\n\u001b[0;32m    462\u001b[0m         \u001b[38;5;28;01mif\u001b[39;00m y\u001b[38;5;241m.\u001b[39mndim \u001b[38;5;241m==\u001b[39m \u001b[38;5;241m1\u001b[39m \u001b[38;5;129;01mor\u001b[39;00m y\u001b[38;5;241m.\u001b[39mndim \u001b[38;5;241m==\u001b[39m \u001b[38;5;241m2\u001b[39m \u001b[38;5;129;01mand\u001b[39;00m y\u001b[38;5;241m.\u001b[39mshape[\u001b[38;5;241m1\u001b[39m] \u001b[38;5;241m==\u001b[39m \u001b[38;5;241m1\u001b[39m:\n",
      "File \u001b[1;32m~\\AppData\\Local\\Programs\\Python\\Python39\\lib\\site-packages\\sklearn\\base.py:621\u001b[0m, in \u001b[0;36mBaseEstimator._validate_data\u001b[1;34m(self, X, y, reset, validate_separately, cast_to_ndarray, **check_params)\u001b[0m\n\u001b[0;32m    619\u001b[0m         y \u001b[38;5;241m=\u001b[39m check_array(y, input_name\u001b[38;5;241m=\u001b[39m\u001b[38;5;124m\"\u001b[39m\u001b[38;5;124my\u001b[39m\u001b[38;5;124m\"\u001b[39m, \u001b[38;5;241m*\u001b[39m\u001b[38;5;241m*\u001b[39mcheck_y_params)\n\u001b[0;32m    620\u001b[0m     \u001b[38;5;28;01melse\u001b[39;00m:\n\u001b[1;32m--> 621\u001b[0m         X, y \u001b[38;5;241m=\u001b[39m check_X_y(X, y, \u001b[38;5;241m*\u001b[39m\u001b[38;5;241m*\u001b[39mcheck_params)\n\u001b[0;32m    622\u001b[0m     out \u001b[38;5;241m=\u001b[39m X, y\n\u001b[0;32m    624\u001b[0m \u001b[38;5;28;01mif\u001b[39;00m \u001b[38;5;129;01mnot\u001b[39;00m no_val_X \u001b[38;5;129;01mand\u001b[39;00m check_params\u001b[38;5;241m.\u001b[39mget(\u001b[38;5;124m\"\u001b[39m\u001b[38;5;124mensure_2d\u001b[39m\u001b[38;5;124m\"\u001b[39m, \u001b[38;5;28;01mTrue\u001b[39;00m):\n",
      "File \u001b[1;32m~\\AppData\\Local\\Programs\\Python\\Python39\\lib\\site-packages\\sklearn\\utils\\validation.py:1147\u001b[0m, in \u001b[0;36mcheck_X_y\u001b[1;34m(X, y, accept_sparse, accept_large_sparse, dtype, order, copy, force_all_finite, ensure_2d, allow_nd, multi_output, ensure_min_samples, ensure_min_features, y_numeric, estimator)\u001b[0m\n\u001b[0;32m   1142\u001b[0m         estimator_name \u001b[38;5;241m=\u001b[39m _check_estimator_name(estimator)\n\u001b[0;32m   1143\u001b[0m     \u001b[38;5;28;01mraise\u001b[39;00m \u001b[38;5;167;01mValueError\u001b[39;00m(\n\u001b[0;32m   1144\u001b[0m         \u001b[38;5;124mf\u001b[39m\u001b[38;5;124m\"\u001b[39m\u001b[38;5;132;01m{\u001b[39;00mestimator_name\u001b[38;5;132;01m}\u001b[39;00m\u001b[38;5;124m requires y to be passed, but the target y is None\u001b[39m\u001b[38;5;124m\"\u001b[39m\n\u001b[0;32m   1145\u001b[0m     )\n\u001b[1;32m-> 1147\u001b[0m X \u001b[38;5;241m=\u001b[39m \u001b[43mcheck_array\u001b[49m\u001b[43m(\u001b[49m\n\u001b[0;32m   1148\u001b[0m \u001b[43m    \u001b[49m\u001b[43mX\u001b[49m\u001b[43m,\u001b[49m\n\u001b[0;32m   1149\u001b[0m \u001b[43m    \u001b[49m\u001b[43maccept_sparse\u001b[49m\u001b[38;5;241;43m=\u001b[39;49m\u001b[43maccept_sparse\u001b[49m\u001b[43m,\u001b[49m\n\u001b[0;32m   1150\u001b[0m \u001b[43m    \u001b[49m\u001b[43maccept_large_sparse\u001b[49m\u001b[38;5;241;43m=\u001b[39;49m\u001b[43maccept_large_sparse\u001b[49m\u001b[43m,\u001b[49m\n\u001b[0;32m   1151\u001b[0m \u001b[43m    \u001b[49m\u001b[43mdtype\u001b[49m\u001b[38;5;241;43m=\u001b[39;49m\u001b[43mdtype\u001b[49m\u001b[43m,\u001b[49m\n\u001b[0;32m   1152\u001b[0m \u001b[43m    \u001b[49m\u001b[43morder\u001b[49m\u001b[38;5;241;43m=\u001b[39;49m\u001b[43morder\u001b[49m\u001b[43m,\u001b[49m\n\u001b[0;32m   1153\u001b[0m \u001b[43m    \u001b[49m\u001b[43mcopy\u001b[49m\u001b[38;5;241;43m=\u001b[39;49m\u001b[43mcopy\u001b[49m\u001b[43m,\u001b[49m\n\u001b[0;32m   1154\u001b[0m \u001b[43m    \u001b[49m\u001b[43mforce_all_finite\u001b[49m\u001b[38;5;241;43m=\u001b[39;49m\u001b[43mforce_all_finite\u001b[49m\u001b[43m,\u001b[49m\n\u001b[0;32m   1155\u001b[0m \u001b[43m    \u001b[49m\u001b[43mensure_2d\u001b[49m\u001b[38;5;241;43m=\u001b[39;49m\u001b[43mensure_2d\u001b[49m\u001b[43m,\u001b[49m\n\u001b[0;32m   1156\u001b[0m \u001b[43m    \u001b[49m\u001b[43mallow_nd\u001b[49m\u001b[38;5;241;43m=\u001b[39;49m\u001b[43mallow_nd\u001b[49m\u001b[43m,\u001b[49m\n\u001b[0;32m   1157\u001b[0m \u001b[43m    \u001b[49m\u001b[43mensure_min_samples\u001b[49m\u001b[38;5;241;43m=\u001b[39;49m\u001b[43mensure_min_samples\u001b[49m\u001b[43m,\u001b[49m\n\u001b[0;32m   1158\u001b[0m \u001b[43m    \u001b[49m\u001b[43mensure_min_features\u001b[49m\u001b[38;5;241;43m=\u001b[39;49m\u001b[43mensure_min_features\u001b[49m\u001b[43m,\u001b[49m\n\u001b[0;32m   1159\u001b[0m \u001b[43m    \u001b[49m\u001b[43mestimator\u001b[49m\u001b[38;5;241;43m=\u001b[39;49m\u001b[43mestimator\u001b[49m\u001b[43m,\u001b[49m\n\u001b[0;32m   1160\u001b[0m \u001b[43m    \u001b[49m\u001b[43minput_name\u001b[49m\u001b[38;5;241;43m=\u001b[39;49m\u001b[38;5;124;43m\"\u001b[39;49m\u001b[38;5;124;43mX\u001b[39;49m\u001b[38;5;124;43m\"\u001b[39;49m\u001b[43m,\u001b[49m\n\u001b[0;32m   1161\u001b[0m \u001b[43m\u001b[49m\u001b[43m)\u001b[49m\n\u001b[0;32m   1163\u001b[0m y \u001b[38;5;241m=\u001b[39m _check_y(y, multi_output\u001b[38;5;241m=\u001b[39mmulti_output, y_numeric\u001b[38;5;241m=\u001b[39my_numeric, estimator\u001b[38;5;241m=\u001b[39mestimator)\n\u001b[0;32m   1165\u001b[0m check_consistent_length(X, y)\n",
      "File \u001b[1;32m~\\AppData\\Local\\Programs\\Python\\Python39\\lib\\site-packages\\sklearn\\utils\\validation.py:959\u001b[0m, in \u001b[0;36mcheck_array\u001b[1;34m(array, accept_sparse, accept_large_sparse, dtype, order, copy, force_all_finite, ensure_2d, allow_nd, ensure_min_samples, ensure_min_features, estimator, input_name)\u001b[0m\n\u001b[0;32m    953\u001b[0m         \u001b[38;5;28;01mraise\u001b[39;00m \u001b[38;5;167;01mValueError\u001b[39;00m(\n\u001b[0;32m    954\u001b[0m             \u001b[38;5;124m\"\u001b[39m\u001b[38;5;124mFound array with dim \u001b[39m\u001b[38;5;132;01m%d\u001b[39;00m\u001b[38;5;124m. \u001b[39m\u001b[38;5;132;01m%s\u001b[39;00m\u001b[38;5;124m expected <= 2.\u001b[39m\u001b[38;5;124m\"\u001b[39m\n\u001b[0;32m    955\u001b[0m             \u001b[38;5;241m%\u001b[39m (array\u001b[38;5;241m.\u001b[39mndim, estimator_name)\n\u001b[0;32m    956\u001b[0m         )\n\u001b[0;32m    958\u001b[0m     \u001b[38;5;28;01mif\u001b[39;00m force_all_finite:\n\u001b[1;32m--> 959\u001b[0m         \u001b[43m_assert_all_finite\u001b[49m\u001b[43m(\u001b[49m\n\u001b[0;32m    960\u001b[0m \u001b[43m            \u001b[49m\u001b[43marray\u001b[49m\u001b[43m,\u001b[49m\n\u001b[0;32m    961\u001b[0m \u001b[43m            \u001b[49m\u001b[43minput_name\u001b[49m\u001b[38;5;241;43m=\u001b[39;49m\u001b[43minput_name\u001b[49m\u001b[43m,\u001b[49m\n\u001b[0;32m    962\u001b[0m \u001b[43m            \u001b[49m\u001b[43mestimator_name\u001b[49m\u001b[38;5;241;43m=\u001b[39;49m\u001b[43mestimator_name\u001b[49m\u001b[43m,\u001b[49m\n\u001b[0;32m    963\u001b[0m \u001b[43m            \u001b[49m\u001b[43mallow_nan\u001b[49m\u001b[38;5;241;43m=\u001b[39;49m\u001b[43mforce_all_finite\u001b[49m\u001b[43m \u001b[49m\u001b[38;5;241;43m==\u001b[39;49m\u001b[43m \u001b[49m\u001b[38;5;124;43m\"\u001b[39;49m\u001b[38;5;124;43mallow-nan\u001b[39;49m\u001b[38;5;124;43m\"\u001b[39;49m\u001b[43m,\u001b[49m\n\u001b[0;32m    964\u001b[0m \u001b[43m        \u001b[49m\u001b[43m)\u001b[49m\n\u001b[0;32m    966\u001b[0m \u001b[38;5;28;01mif\u001b[39;00m ensure_min_samples \u001b[38;5;241m>\u001b[39m \u001b[38;5;241m0\u001b[39m:\n\u001b[0;32m    967\u001b[0m     n_samples \u001b[38;5;241m=\u001b[39m _num_samples(array)\n",
      "File \u001b[1;32m~\\AppData\\Local\\Programs\\Python\\Python39\\lib\\site-packages\\sklearn\\utils\\validation.py:124\u001b[0m, in \u001b[0;36m_assert_all_finite\u001b[1;34m(X, allow_nan, msg_dtype, estimator_name, input_name)\u001b[0m\n\u001b[0;32m    121\u001b[0m \u001b[38;5;28;01mif\u001b[39;00m first_pass_isfinite:\n\u001b[0;32m    122\u001b[0m     \u001b[38;5;28;01mreturn\u001b[39;00m\n\u001b[1;32m--> 124\u001b[0m \u001b[43m_assert_all_finite_element_wise\u001b[49m\u001b[43m(\u001b[49m\n\u001b[0;32m    125\u001b[0m \u001b[43m    \u001b[49m\u001b[43mX\u001b[49m\u001b[43m,\u001b[49m\n\u001b[0;32m    126\u001b[0m \u001b[43m    \u001b[49m\u001b[43mxp\u001b[49m\u001b[38;5;241;43m=\u001b[39;49m\u001b[43mxp\u001b[49m\u001b[43m,\u001b[49m\n\u001b[0;32m    127\u001b[0m \u001b[43m    \u001b[49m\u001b[43mallow_nan\u001b[49m\u001b[38;5;241;43m=\u001b[39;49m\u001b[43mallow_nan\u001b[49m\u001b[43m,\u001b[49m\n\u001b[0;32m    128\u001b[0m \u001b[43m    \u001b[49m\u001b[43mmsg_dtype\u001b[49m\u001b[38;5;241;43m=\u001b[39;49m\u001b[43mmsg_dtype\u001b[49m\u001b[43m,\u001b[49m\n\u001b[0;32m    129\u001b[0m \u001b[43m    \u001b[49m\u001b[43mestimator_name\u001b[49m\u001b[38;5;241;43m=\u001b[39;49m\u001b[43mestimator_name\u001b[49m\u001b[43m,\u001b[49m\n\u001b[0;32m    130\u001b[0m \u001b[43m    \u001b[49m\u001b[43minput_name\u001b[49m\u001b[38;5;241;43m=\u001b[39;49m\u001b[43minput_name\u001b[49m\u001b[43m,\u001b[49m\n\u001b[0;32m    131\u001b[0m \u001b[43m\u001b[49m\u001b[43m)\u001b[49m\n",
      "File \u001b[1;32m~\\AppData\\Local\\Programs\\Python\\Python39\\lib\\site-packages\\sklearn\\utils\\validation.py:173\u001b[0m, in \u001b[0;36m_assert_all_finite_element_wise\u001b[1;34m(X, xp, allow_nan, msg_dtype, estimator_name, input_name)\u001b[0m\n\u001b[0;32m    156\u001b[0m \u001b[38;5;28;01mif\u001b[39;00m estimator_name \u001b[38;5;129;01mand\u001b[39;00m input_name \u001b[38;5;241m==\u001b[39m \u001b[38;5;124m\"\u001b[39m\u001b[38;5;124mX\u001b[39m\u001b[38;5;124m\"\u001b[39m \u001b[38;5;129;01mand\u001b[39;00m has_nan_error:\n\u001b[0;32m    157\u001b[0m     \u001b[38;5;66;03m# Improve the error message on how to handle missing values in\u001b[39;00m\n\u001b[0;32m    158\u001b[0m     \u001b[38;5;66;03m# scikit-learn.\u001b[39;00m\n\u001b[0;32m    159\u001b[0m     msg_err \u001b[38;5;241m+\u001b[39m\u001b[38;5;241m=\u001b[39m (\n\u001b[0;32m    160\u001b[0m         \u001b[38;5;124mf\u001b[39m\u001b[38;5;124m\"\u001b[39m\u001b[38;5;130;01m\\n\u001b[39;00m\u001b[38;5;132;01m{\u001b[39;00mestimator_name\u001b[38;5;132;01m}\u001b[39;00m\u001b[38;5;124m does not accept missing values\u001b[39m\u001b[38;5;124m\"\u001b[39m\n\u001b[0;32m    161\u001b[0m         \u001b[38;5;124m\"\u001b[39m\u001b[38;5;124m encoded as NaN natively. For supervised learning, you might want\u001b[39m\u001b[38;5;124m\"\u001b[39m\n\u001b[1;32m   (...)\u001b[0m\n\u001b[0;32m    171\u001b[0m         \u001b[38;5;124m\"\u001b[39m\u001b[38;5;124m#estimators-that-handle-nan-values\u001b[39m\u001b[38;5;124m\"\u001b[39m\n\u001b[0;32m    172\u001b[0m     )\n\u001b[1;32m--> 173\u001b[0m \u001b[38;5;28;01mraise\u001b[39;00m \u001b[38;5;167;01mValueError\u001b[39;00m(msg_err)\n",
      "\u001b[1;31mValueError\u001b[0m: Input X contains NaN.\nKNeighborsClassifier does not accept missing values encoded as NaN natively. For supervised learning, you might want to consider sklearn.ensemble.HistGradientBoostingClassifier and Regressor which accept missing values encoded as NaNs natively. Alternatively, it is possible to preprocess the data, for instance by using an imputer transformer in a pipeline or drop samples with missing values. See https://scikit-learn.org/stable/modules/impute.html You can find a list of all estimators that handle NaN values at the following page: https://scikit-learn.org/stable/modules/impute.html#estimators-that-handle-nan-values"
     ]
    }
   ],
   "source": [
    "k = 4\n",
    "#Train Model and Predict  \n",
    "neigh = KNeighborsClassifier(n_neighbors = k).fit(X_train,y_train)\n",
    "neigh"
   ]
  },
  {
   "cell_type": "code",
   "execution_count": null,
   "id": "2d2eee26-6dfc-4945-b82a-b08aa696c898",
   "metadata": {},
   "outputs": [],
   "source": []
  }
 ],
 "metadata": {
  "kernelspec": {
   "display_name": "Python 3 (ipykernel)",
   "language": "python",
   "name": "python3"
  },
  "language_info": {
   "codemirror_mode": {
    "name": "ipython",
    "version": 3
   },
   "file_extension": ".py",
   "mimetype": "text/x-python",
   "name": "python",
   "nbconvert_exporter": "python",
   "pygments_lexer": "ipython3",
   "version": "3.9.8"
  }
 },
 "nbformat": 4,
 "nbformat_minor": 5
}
